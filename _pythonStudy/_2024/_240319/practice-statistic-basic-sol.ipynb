{
 "cells": [
  {
   "cell_type": "markdown",
   "id": "4ba112a7",
   "metadata": {},
   "source": [
    "# (실습) 통계 기초"
   ]
  },
  {
   "cell_type": "markdown",
   "id": "9bf97162",
   "metadata": {},
   "source": [
    "**참고**"
   ]
  },
  {
   "cell_type": "markdown",
   "id": "0889b335",
   "metadata": {},
   "source": [
    "[통계 기초](https://codingalzi.github.io/datapy/from_scratch_2.html)에\n",
    "정의된 다음 함수들을 활용할 수 있다.\n",
    "\n",
    "- mean\n",
    "- median\n",
    "- quantile\n",
    "- mode\n",
    "- data_range\n",
    "- iqr\n",
    "- var\n",
    "- std\n",
    "- cov\n",
    "- corrcoef"
   ]
  },
  {
   "cell_type": "markdown",
   "id": "95d60690",
   "metadata": {},
   "source": [
    "**필수 모듈**"
   ]
  },
  {
   "cell_type": "markdown",
   "id": "0a656de8",
   "metadata": {},
   "source": [
    "`matplotlib.pyplot`은 막대그래프, 히스토그램, 산점도 등 데이터를 그래프로 시각화할 때 필요한\n",
    "다양한 함수를 제공하는 모듈이다."
   ]
  },
  {
   "cell_type": "code",
   "execution_count": 1,
   "id": "f5458c79",
   "metadata": {},
   "outputs": [],
   "source": [
    "import matplotlib.pyplot as plt\n",
    "\n",
    "# 그래프 설정\n",
    "plt.rc('figure', figsize=(10, 6))  # 그래프 크기 지정"
   ]
  },
  {
   "cell_type": "code",
   "execution_count": 2,
   "id": "ff6eed7c",
   "metadata": {},
   "outputs": [],
   "source": [
    "import platform\n",
    "import matplotlib as mpl\n",
    "\n",
    "# 윈도우 설정\n",
    "if platform.system() == 'Windows':\n",
    "    font_path = \"C:/Windows/Fonts/NGULIM.TTF\"\n",
    "    font = mpl.font_manager.FontProperties(fname=font_path).get_name()\n",
    "    plt.rc('font', family=font)\n",
    "# 우분투/구글 코랩 설정\n",
    "elif platform.system() == 'Linux':\n",
    "    # 우분투/구글코랩의 경우 아래 명령문이 최소 한번 실행되어야 함\n",
    "    # !sudo apt-get install -y fonts-nanum*\n",
    "    # !fc-cache -fv\n",
    "    \n",
    "    font = \"NanumBarunGothic\"\n",
    "    if not any(map(lambda ft: ft.name == font, mpl.font_manager.fontManager.ttflist)):\n",
    "        mpl.font_manager.fontManager.addfont(\"/usr/share/fonts/truetype/nanum/NanumBarunGothic.ttf\")\n",
    "    plt.rc(\"font\", family=font)\n",
    "    plt.rc(\"axes\", unicode_minus=False)"
   ]
  },
  {
   "cell_type": "markdown",
   "id": "451e25d5",
   "metadata": {},
   "source": [
    "## 데이터 준비"
   ]
  },
  {
   "cell_type": "markdown",
   "id": "5aa9f34e",
   "metadata": {},
   "source": [
    "영산강에 설치된 승천보에서 측정한 두 개의 데이터셋이다.\n",
    "\n",
    "- `chl_a`: 녹조 발생의 주요 요인인 클로로필-A의 수치 100개\n",
    "- `flow`: 보에서 방출되는 시간당 방류량 수치 100개\n",
    "\n",
    "두 데이터셋의 인덱스는 수질(water quality)을 가리키며,\n",
    "높은 숫자일 수록 수질은 나쁘다."
   ]
  },
  {
   "cell_type": "code",
   "execution_count": 3,
   "id": "b07f5968",
   "metadata": {},
   "outputs": [],
   "source": [
    "# 클로로필-A 수치 100개\n",
    "\n",
    "chl_a = [51, 51, 53, 53, 54, 55, 57, 57, 59, 60,\n",
    "         61, 62, 63, 64, 65, 66, 67, 67, 67, 69,\n",
    "         70, 71, 71, 72, 73, 75, 75, 76, 77, 79,\n",
    "         81, 81, 83, 83, 85, 86, 87, 88, 88, 88,\n",
    "         89, 89, 90, 91, 92, 95, 96, 96, 97, 98,\n",
    "         98, 98, 99, 101, 101, 102, 102, 103, 104, 104,\n",
    "         104, 104, 105, 106, 107, 108, 110, 111, 111, 112,\n",
    "         112, 112, 113, 114, 114, 116, 116, 116, 117, 118,\n",
    "         118, 118, 118, 119, 120, 120, 121, 122, 125, 120,\n",
    "         121, 121, 121, 122, 122, 122, 122, 124, 125, 124]"
   ]
  },
  {
   "cell_type": "code",
   "execution_count": 4,
   "id": "7d6a2b0c",
   "metadata": {},
   "outputs": [],
   "source": [
    "# 시간당 방류량 수치 100개\n",
    "\n",
    "flow = [25, 25, 24, 24, 22, 22, 21, 21, 20, 20,\n",
    "        19, 19, 19, 18, 18, 18, 17, 17, 17, 16,\n",
    "        16, 16, 17, 16, 17, 17, 16, 16, 16, 16,\n",
    "        16, 16, 16, 16, 16, 15, 15, 15, 15, 15,\n",
    "        15, 14, 15, 14, 14, 13, 13, 13, 13, 13,\n",
    "        13, 13, 13, 13, 13, 13, 12, 12, 12, 12,\n",
    "        12, 12, 52, 11, 11, 11, 11, 11, 12, 12,\n",
    "        12, 12, 12, 11, 12, 12, 12, 11, 11, 11,\n",
    "        11, 11, 11, 11, 11, 11, 11, 11, 11, 10,\n",
    "        9, 9, 9, 9, 9, 9, 9, 49, 9, 9]"
   ]
  },
  {
   "cell_type": "markdown",
   "id": "4057b988",
   "metadata": {},
   "source": [
    "**문제**"
   ]
  },
  {
   "cell_type": "markdown",
   "id": "dcf9d30b",
   "metadata": {},
   "source": [
    "각각의 데이터셋 크기가 100임을 확인하라.\n",
    "\n",
    "힌트: `len()` 함수"
   ]
  },
  {
   "cell_type": "code",
   "execution_count": 5,
   "id": "f4251f45",
   "metadata": {},
   "outputs": [
    {
     "data": {
      "text/plain": [
       "100"
      ]
     },
     "execution_count": 5,
     "metadata": {},
     "output_type": "execute_result"
    }
   ],
   "source": [
    "len(chl_a)"
   ]
  },
  {
   "cell_type": "code",
   "execution_count": 6,
   "id": "7be9805c",
   "metadata": {},
   "outputs": [
    {
     "data": {
      "text/plain": [
       "100"
      ]
     },
     "execution_count": 6,
     "metadata": {},
     "output_type": "execute_result"
    }
   ],
   "source": [
    "len(flow)"
   ]
  },
  {
   "cell_type": "markdown",
   "id": "f5dc3aac",
   "metadata": {},
   "source": [
    "**문제**"
   ]
  },
  {
   "cell_type": "markdown",
   "id": "5423885b",
   "metadata": {},
   "source": [
    "가장 높은 클로로필-A의 수치는 얼마인가?"
   ]
  },
  {
   "cell_type": "code",
   "execution_count": 7,
   "id": "b38ff228",
   "metadata": {},
   "outputs": [
    {
     "data": {
      "text/plain": [
       "125"
      ]
     },
     "execution_count": 7,
     "metadata": {},
     "output_type": "execute_result"
    }
   ],
   "source": [
    "max(chl_a)"
   ]
  },
  {
   "cell_type": "markdown",
   "id": "c2fa4c85",
   "metadata": {},
   "source": [
    "가장 낮은 클로로필-A의 수치는 얼마인가?"
   ]
  },
  {
   "cell_type": "code",
   "execution_count": 8,
   "id": "997ddfe7",
   "metadata": {},
   "outputs": [
    {
     "data": {
      "text/plain": [
       "51"
      ]
     },
     "execution_count": 8,
     "metadata": {},
     "output_type": "execute_result"
    }
   ],
   "source": [
    "min(chl_a)"
   ]
  },
  {
   "cell_type": "markdown",
   "id": "050234f0",
   "metadata": {},
   "source": [
    "**문제**"
   ]
  },
  {
   "cell_type": "markdown",
   "id": "af256b34",
   "metadata": {},
   "source": [
    "가장 높은 시간당 방류량 수치는 얼마인가?"
   ]
  },
  {
   "cell_type": "code",
   "execution_count": 9,
   "id": "ebf50466",
   "metadata": {},
   "outputs": [
    {
     "data": {
      "text/plain": [
       "52"
      ]
     },
     "execution_count": 9,
     "metadata": {},
     "output_type": "execute_result"
    }
   ],
   "source": [
    "max(flow)"
   ]
  },
  {
   "cell_type": "markdown",
   "id": "3a166967",
   "metadata": {},
   "source": [
    "가장 낮은 시간당 방류량 수치는 얼마인가?"
   ]
  },
  {
   "cell_type": "code",
   "execution_count": 10,
   "id": "9d3af5ac",
   "metadata": {},
   "outputs": [
    {
     "data": {
      "text/plain": [
       "9"
      ]
     },
     "execution_count": 10,
     "metadata": {},
     "output_type": "execute_result"
    }
   ],
   "source": [
    "min(flow)"
   ]
  },
  {
   "cell_type": "markdown",
   "id": "fb8a227d",
   "metadata": {},
   "source": [
    "## 데이터 살펴보기"
   ]
  },
  {
   "cell_type": "markdown",
   "id": "37e7ef28",
   "metadata": {},
   "source": [
    "**문제**"
   ]
  },
  {
   "cell_type": "markdown",
   "id": "00a80a4a",
   "metadata": {},
   "source": [
    "클로로필-A 데이터에 포함된 값들의 빈도를 막대그래프로 그려라.\n",
    "\n",
    "힌트: `from collections import Counter`"
   ]
  },
  {
   "cell_type": "code",
   "execution_count": 11,
   "id": "bcae8ac5",
   "metadata": {},
   "outputs": [],
   "source": [
    "from collections import Counter\n",
    "\n",
    "xs = range(101)\n",
    "\n",
    "chla_counts = Counter(chl_a)\n",
    "ys = [chla_counts[x] for x in xs]"
   ]
  },
  {
   "cell_type": "code",
   "execution_count": 12,
   "id": "569e09e0",
   "metadata": {},
   "outputs": [
    {
     "data": {
      "text/plain": [
       "5"
      ]
     },
     "execution_count": 12,
     "metadata": {},
     "output_type": "execute_result"
    }
   ],
   "source": [
    "max(chla_counts.values())"
   ]
  },
  {
   "cell_type": "code",
   "execution_count": 13,
   "id": "6d2d1dc3",
   "metadata": {},
   "outputs": [
    {
     "data": {
      "text/plain": [
       "1"
      ]
     },
     "execution_count": 13,
     "metadata": {},
     "output_type": "execute_result"
    }
   ],
   "source": [
    "min(chla_counts.values())"
   ]
  },
  {
   "cell_type": "code",
   "execution_count": 14,
   "id": "ab5989fa",
   "metadata": {},
   "outputs": [
    {
     "data": {
      "image/png": "[encoded data removed]",
      "text/plain": [
       "<Figure size 1000x600 with 1 Axes>"
      ]
     },
     "metadata": {},
     "output_type": "display_data"
    }
   ],
   "source": [
    "# 막대그래프 그리기\n",
    "plt.bar(xs, ys)\n",
    "\n",
    "# 그래프 설정\n",
    "plt.axis([50, 125, 0, 5])        # x축은 0부터 100까지, y축은 0부터 25까지 눈금 사용\n",
    "plt.xlabel(\"클로로필a 수치\")     # x축 눈금 설명\n",
    "plt.ylabel(\"발생 수\")            # y축 눈금 설명\n",
    "plt.show()"
   ]
  },
  {
   "cell_type": "markdown",
   "id": "1f41759e",
   "metadata": {},
   "source": [
    "## 중심 경향성과 평균"
   ]
  },
  {
   "cell_type": "markdown",
   "id": "18f4effa",
   "metadata": {},
   "source": [
    "**문제**"
   ]
  },
  {
   "cell_type": "markdown",
   "id": "b354d2bf",
   "metadata": {},
   "source": [
    "방류량의 평균값을 계산하라."
   ]
  },
  {
   "cell_type": "code",
   "execution_count": 15,
   "id": "bed5261d",
   "metadata": {},
   "outputs": [],
   "source": [
    "def mean(xs):\n",
    "    \"\"\"\n",
    "    xs: 리스트로 구현된 데이터셋\n",
    "    \"\"\"\n",
    "\n",
    "    return sum(xs) / len(xs)"
   ]
  },
  {
   "cell_type": "code",
   "execution_count": 16,
   "id": "1ddbe386",
   "metadata": {},
   "outputs": [
    {
     "data": {
      "text/plain": [
       "14.93"
      ]
     },
     "execution_count": 16,
     "metadata": {},
     "output_type": "execute_result"
    }
   ],
   "source": [
    "mean(flow)"
   ]
  },
  {
   "cell_type": "markdown",
   "id": "86a72482",
   "metadata": {},
   "source": [
    "**문제**"
   ]
  },
  {
   "cell_type": "markdown",
   "id": "16dc162e",
   "metadata": {},
   "source": [
    "방류량의 중위수를 계산하라."
   ]
  },
  {
   "cell_type": "code",
   "execution_count": 17,
   "id": "1dd3f89f",
   "metadata": {},
   "outputs": [],
   "source": [
    "# 리스트의 길이가 짝수일 때\n",
    "def _median_even(xs):\n",
    "    sorted_xs = sorted(xs)\n",
    "    high_midpoint = len(xs) // 2\n",
    "    mean_value = (sorted_xs[high_midpoint - 1] + sorted_xs[high_midpoint]) / 2\n",
    "    return mean_value\n",
    "\n",
    "# 리스트의 길이가 홀수일 때\n",
    "def _median_odd(xs):\n",
    "    sorted_xs = sorted(xs)\n",
    "    midpoint = len(xs) // 2\n",
    "    mean_value = sorted_xs[midpoint]\n",
    "    return mean_value\n",
    "\n",
    "# 짝수/홀수 구분\n",
    "def median(xs):\n",
    "    if len(xs) % 2 == 0:\n",
    "        return _median_even(xs)\n",
    "    else:\n",
    "        return _median_odd(xs)"
   ]
  },
  {
   "cell_type": "code",
   "execution_count": 18,
   "id": "adb88848",
   "metadata": {},
   "outputs": [
    {
     "data": {
      "text/plain": [
       "13.0"
      ]
     },
     "execution_count": 18,
     "metadata": {},
     "output_type": "execute_result"
    }
   ],
   "source": [
    "median(flow)"
   ]
  },
  {
   "cell_type": "markdown",
   "id": "2a9785dc",
   "metadata": {},
   "source": [
    "**문제**"
   ]
  },
  {
   "cell_type": "markdown",
   "id": "b72a49d8",
   "metadata": {},
   "source": [
    "방류량의 최빈값을 계산하라."
   ]
  },
  {
   "cell_type": "code",
   "execution_count": 19,
   "id": "c591bbef",
   "metadata": {},
   "outputs": [],
   "source": [
    "def mode(xs):\n",
    "    \"\"\"\n",
    "    최빈값\n",
    "    \"\"\"\n",
    "    # Counter 객체 생성\n",
    "    counts = Counter(xs)\n",
    "    # 키값의 최댓값 확인\n",
    "    max_count = max(counts.values())\n",
    "    # 최대 키값을 갖는 키들의 집합\n",
    "    modes = {x_i for x_i, count in counts.items() if count == max_count}\n",
    "    return modes"
   ]
  },
  {
   "cell_type": "code",
   "execution_count": 20,
   "id": "57bbd378",
   "metadata": {},
   "outputs": [
    {
     "data": {
      "text/plain": [
       "{11}"
      ]
     },
     "execution_count": 20,
     "metadata": {},
     "output_type": "execute_result"
    }
   ],
   "source": [
    "mode(flow)"
   ]
  },
  {
   "cell_type": "markdown",
   "id": "8b501a41",
   "metadata": {},
   "source": [
    "**문제**"
   ]
  },
  {
   "cell_type": "markdown",
   "id": "30081d43",
   "metadata": {},
   "source": [
    "방류량의 제1, 제3 사분위수를 계산하라."
   ]
  },
  {
   "cell_type": "code",
   "execution_count": 21,
   "id": "7ce74e81",
   "metadata": {},
   "outputs": [],
   "source": [
    "def quantile(xs, p):\n",
    "    \"\"\"\n",
    "    xs: 데이터셋\n",
    "    p: 하위 p% 위치\n",
    "    \"\"\"\n",
    "    \n",
    "    xs_sorted = sorted(xs) # 정렬\n",
    "    p_index = int(p * len(xs)) # p%에 해당하는 인덱스\n",
    "\n",
    "    return xs_sorted[p_index]"
   ]
  },
  {
   "cell_type": "code",
   "execution_count": 22,
   "id": "fed0b5f9",
   "metadata": {},
   "outputs": [
    {
     "name": "stdout",
     "output_type": "stream",
     "text": [
      "제1사분위수: 11\n",
      "제3사분위수: 16\n"
     ]
    }
   ],
   "source": [
    "print(\"제1사분위수:\", quantile(flow, 0.25))\n",
    "print(\"제3사분위수:\", quantile(flow, 0.75))"
   ]
  },
  {
   "cell_type": "markdown",
   "id": "3d9a6797",
   "metadata": {},
   "source": [
    "## 산포도와 분산"
   ]
  },
  {
   "cell_type": "markdown",
   "id": "453df3b1",
   "metadata": {},
   "source": [
    "**문제**"
   ]
  },
  {
   "cell_type": "markdown",
   "id": "2dc793d1",
   "metadata": {},
   "source": [
    "클로로필-A 데이터의 범위를 계산하라."
   ]
  },
  {
   "cell_type": "code",
   "execution_count": 23,
   "id": "5e59c093",
   "metadata": {},
   "outputs": [],
   "source": [
    "def data_range(xs):\n",
    "    return max(xs) - min(xs)"
   ]
  },
  {
   "cell_type": "code",
   "execution_count": 24,
   "id": "23bd71d0",
   "metadata": {},
   "outputs": [
    {
     "data": {
      "text/plain": [
       "74"
      ]
     },
     "execution_count": 24,
     "metadata": {},
     "output_type": "execute_result"
    }
   ],
   "source": [
    "data_range(chl_a)"
   ]
  },
  {
   "cell_type": "markdown",
   "id": "1deb85f8",
   "metadata": {},
   "source": [
    "**문제**"
   ]
  },
  {
   "cell_type": "markdown",
   "id": "f30911df",
   "metadata": {},
   "source": [
    "클로로필-A 데이터의 분산을 계산하라."
   ]
  },
  {
   "cell_type": "code",
   "execution_count": 25,
   "id": "4f403167",
   "metadata": {},
   "outputs": [],
   "source": [
    "# 벡터 내적 함수\n",
    "def dotV(v, w):\n",
    "    assert len(v) == len(w), \"벡터들의 길이가 동일해야 함\"\"\"\n",
    "\n",
    "    return sum(v_i * w_i for v_i, w_i in zip(v, w))\n",
    "\n",
    "def dev_mean(xs):\n",
    "    \"\"\"평균값과의 차이 계산\"\"\"\n",
    "    mu = mean(xs)\n",
    "    return [x - mu for x in xs]\n",
    "\n",
    "def sum_of_squares(v):\n",
    "    \"\"\"반환값: v_1 * v_1 + ... + v_n * v_n\"\"\"\n",
    "    return dotV(v, v)"
   ]
  },
  {
   "cell_type": "code",
   "execution_count": 26,
   "id": "3f48b38f",
   "metadata": {},
   "outputs": [],
   "source": [
    "def var(xs):\n",
    "    \"\"\"\n",
    "    분산값 계산. 단, 2개 이상의 데이터가 있어야 함.\n",
    "    \"\"\"\n",
    "    \n",
    "    assert len(xs) >= 2, \"두 개 이상의 데이터 필요\"\n",
    "\n",
    "    n = len(xs)\n",
    "    deviations = dev_mean(xs)\n",
    "    deviation_sum = sum_of_squares(deviations)\n",
    "    return deviation_sum / (n - 1)"
   ]
  },
  {
   "cell_type": "code",
   "execution_count": 27,
   "id": "bd2353aa",
   "metadata": {},
   "outputs": [
    {
     "data": {
      "text/plain": [
       "511.9195959595961"
      ]
     },
     "execution_count": 27,
     "metadata": {},
     "output_type": "execute_result"
    }
   ],
   "source": [
    "var(chl_a)"
   ]
  },
  {
   "cell_type": "markdown",
   "id": "f6b300c9",
   "metadata": {},
   "source": [
    "**문제**"
   ]
  },
  {
   "cell_type": "markdown",
   "id": "9a156e8b",
   "metadata": {},
   "source": [
    "클로로필-A 데이터의 표준편차를 계산하라."
   ]
  },
  {
   "cell_type": "code",
   "execution_count": 28,
   "id": "7a2e8f19",
   "metadata": {},
   "outputs": [],
   "source": [
    "import math\n",
    "\n",
    "def std(xs):\n",
    "    return math.sqrt(var(xs))"
   ]
  },
  {
   "cell_type": "code",
   "execution_count": 29,
   "id": "becc29dc",
   "metadata": {},
   "outputs": [
    {
     "data": {
      "text/plain": [
       "22.62564023314249"
      ]
     },
     "execution_count": 29,
     "metadata": {},
     "output_type": "execute_result"
    }
   ],
   "source": [
    "std(chl_a)"
   ]
  },
  {
   "cell_type": "markdown",
   "id": "d73b2b11",
   "metadata": {},
   "source": [
    "## 선형 상관관계"
   ]
  },
  {
   "cell_type": "markdown",
   "id": "da835ea6",
   "metadata": {},
   "source": [
    "**문제**"
   ]
  },
  {
   "cell_type": "markdown",
   "id": "2190b90e",
   "metadata": {},
   "source": [
    "클로로필-A와 시간당 방류량 사이의 공분산을 계산하고\n",
    "두 데이터 사이의 상관관계를 설명하라."
   ]
  },
  {
   "cell_type": "code",
   "execution_count": 30,
   "id": "f85c4bf9",
   "metadata": {},
   "outputs": [],
   "source": [
    "def cov(xs, ys):\n",
    "    assert len(xs) == len(ys), \"xs와 ys의 길이가 같아야 함.\"\n",
    "\n",
    "    return dotV(dev_mean(xs), dev_mean(ys)) / (len(xs) - 1)"
   ]
  },
  {
   "cell_type": "code",
   "execution_count": 31,
   "id": "0dc70d6b",
   "metadata": {},
   "outputs": [
    {
     "data": {
      "text/plain": [
       "-66.88868686868692"
      ]
     },
     "execution_count": 31,
     "metadata": {},
     "output_type": "execute_result"
    }
   ],
   "source": [
    "cov(chl_a, flow)"
   ]
  },
  {
   "cell_type": "markdown",
   "id": "2c8183e5",
   "metadata": {},
   "source": [
    "즉, 방류량이 증가할 수록 클로로필-A의 수치가 떨어진다고 판단할 수 있다.\n",
    "\n",
    "참고로 클로로필-A의 수치가 증가할 수록 방류량의 수치가 떨어진다고 말할 수도 있으나\n",
    "이는 자연현상을 설명하기에는 적절하지 않다. \n",
    "클로로필-A, 즉 엽록소는 물의 흐름이 느릴 때 발생하는 녹조 현상에 크게 관여한다.\n",
    "그리고 물의 흐름이 빠를 수록 녹조현상이 덜 발생하기에 클로로필-A의 수치가 떨어지는 인과관계가 성립한다."
   ]
  },
  {
   "cell_type": "markdown",
   "id": "719162e0",
   "metadata": {},
   "source": [
    "**문제**"
   ]
  },
  {
   "cell_type": "markdown",
   "id": "38a364fc",
   "metadata": {},
   "source": [
    "클로로필-A와 시간당 방류량 사이의 피어슨 상관계수를 계산하고\n",
    "두 데이터 사이의 선형 상관관계를 설명하라."
   ]
  },
  {
   "cell_type": "code",
   "execution_count": 32,
   "id": "ee92b272",
   "metadata": {},
   "outputs": [],
   "source": [
    "def corrcoef(xs, ys):\n",
    "    assert len(xs) == len(ys), \"xs와 ys의 길이가 같아야 함.\"\n",
    "\n",
    "    stdev_x = std(xs) # xs의 표준편차\n",
    "    stdev_y = std(ys) # ys의 표준편차\n",
    "\n",
    "    if stdev_x > 0 and stdev_y > 0:\n",
    "        return cov(xs, ys) / (stdev_x * stdev_y)\n",
    "    else:\n",
    "        return 0    # 표준편차가 0인 데이터셋과의 선형 상관관계는 없음."
   ]
  },
  {
   "cell_type": "code",
   "execution_count": 33,
   "id": "1aef423c",
   "metadata": {},
   "outputs": [
    {
     "data": {
      "text/plain": [
       "-0.46344389682687775"
      ]
     },
     "execution_count": 33,
     "metadata": {},
     "output_type": "execute_result"
    }
   ],
   "source": [
    "corrcoef(chl_a, flow)"
   ]
  },
  {
   "cell_type": "markdown",
   "id": "df6d963b",
   "metadata": {},
   "source": [
    "이전 문제와 마찬가지로 방류량이 증가할 수록 클로로필-A의 수치가 선형적으로 떨어진다고 판단할 수 있다."
   ]
  },
  {
   "cell_type": "markdown",
   "id": "e3df3dc0",
   "metadata": {},
   "source": [
    "## 이상치"
   ]
  },
  {
   "cell_type": "markdown",
   "id": "0396b3f7",
   "metadata": {},
   "source": [
    "**산점도**"
   ]
  },
  {
   "cell_type": "markdown",
   "id": "ce0db165",
   "metadata": {},
   "source": [
    "x축을 방류량, y축을 클로로필-A 수치로 지정한 다음 산점도를 그려보자."
   ]
  },
  {
   "cell_type": "code",
   "execution_count": 34,
   "id": "e1082a1a",
   "metadata": {},
   "outputs": [
    {
     "data": {
      "image/png": "[encoded data removed]",
      "text/plain": [
       "<Figure size 1000x600 with 1 Axes>"
      ]
     },
     "metadata": {},
     "output_type": "display_data"
    }
   ],
   "source": [
    "plt.scatter(flow, chl_a)\n",
    "\n",
    "# 그래프 설정\n",
    "plt.xlabel(\"방류량\")           # x축 눈금 설명\n",
    "plt.ylabel(\"클로로필-A\")       # y축 눈금 설명\n",
    "plt.show()"
   ]
  },
  {
   "cell_type": "markdown",
   "id": "81fdd2f3",
   "metadata": {},
   "source": [
    "**문제**"
   ]
  },
  {
   "cell_type": "markdown",
   "id": "fe1b7c70",
   "metadata": {},
   "source": [
    "위 산점도에 따르면 두 개의 이상치가 존재한다.\n",
    "어떤 데이터가 이상치인지 설명하라."
   ]
  },
  {
   "cell_type": "markdown",
   "id": "161908a9",
   "metadata": {},
   "source": [
    "방류량이 증가할 수록 클로로필-A 수치가 떨어지는 게 일반적이다.\n",
    "하지만 방류량이 40이상임에도 불구하고 클로로필-A 수치가 높은 두 개의 데이터는\n",
    "일반적인 경향과 많이 어긋난다.\n",
    "따라서 이 두 데이터를 이상치로 간주할 수 있다."
   ]
  },
  {
   "cell_type": "markdown",
   "id": "5a45e5c2",
   "metadata": {},
   "source": [
    "**문제**"
   ]
  },
  {
   "cell_type": "markdown",
   "id": "34b67544",
   "metadata": {},
   "source": [
    "클로로필-A 데이터와 방수량 두 데이터셋 모두에서\n",
    "이상치에 해당하는 두 개의 값을 제거한다."
   ]
  },
  {
   "cell_type": "markdown",
   "id": "ba8cf378",
   "metadata": {},
   "source": [
    "답"
   ]
  },
  {
   "cell_type": "markdown",
   "id": "523f2c67",
   "metadata": {},
   "source": [
    "먼저 방류량 수치가 40 이상인 데이터의 인덱스를 확인하면\n",
    "62번과 97번으로 확인된다."
   ]
  },
  {
   "cell_type": "code",
   "execution_count": 35,
   "id": "af3803d9",
   "metadata": {},
   "outputs": [
    {
     "data": {
      "text/plain": [
       "[62, 97]"
      ]
     },
     "execution_count": 35,
     "metadata": {},
     "output_type": "execute_result"
    }
   ],
   "source": [
    "over40_index = []\n",
    "\n",
    "for i in range(100):\n",
    "    if flow[i] >= 40:\n",
    "        over40_index.append(i)\n",
    "        \n",
    "over40_index"
   ]
  },
  {
   "cell_type": "markdown",
   "id": "caf0956a",
   "metadata": {},
   "source": [
    "따라서 방류량과 클로로필-A 데이터 모두에서 62번과 97번을 제거한다.\n",
    "다양한 방식으로 할 수 있지마 여기서는 `for` 반복문을 활용한다."
   ]
  },
  {
   "cell_type": "code",
   "execution_count": 36,
   "id": "ba9a8165",
   "metadata": {},
   "outputs": [],
   "source": [
    "new_chl_a = []\n",
    "\n",
    "for i in range(100):\n",
    "    if i in over40_index:\n",
    "        continue\n",
    "    \n",
    "    new_chl_a.append(chl_a[i])\n",
    "    "
   ]
  },
  {
   "cell_type": "markdown",
   "id": "cf42efc2",
   "metadata": {},
   "source": [
    "데이터 2개가 제거되었음을 확인한다."
   ]
  },
  {
   "cell_type": "code",
   "execution_count": 37,
   "id": "3e97166c",
   "metadata": {},
   "outputs": [
    {
     "data": {
      "text/plain": [
       "98"
      ]
     },
     "execution_count": 37,
     "metadata": {},
     "output_type": "execute_result"
    }
   ],
   "source": [
    "len(new_chl_a)"
   ]
  },
  {
   "cell_type": "markdown",
   "id": "13bda07e",
   "metadata": {},
   "source": [
    "방류양 데이터도 동일한 방식을 이용한다."
   ]
  },
  {
   "cell_type": "code",
   "execution_count": 38,
   "id": "d964f7b2",
   "metadata": {},
   "outputs": [],
   "source": [
    "new_flow = []\n",
    "\n",
    "for i in range(100):\n",
    "    if i in over40_index:\n",
    "        continue\n",
    "    \n",
    "    new_flow.append(flow[i])"
   ]
  },
  {
   "cell_type": "code",
   "execution_count": 39,
   "id": "e08e4f2e",
   "metadata": {},
   "outputs": [
    {
     "data": {
      "text/plain": [
       "98"
      ]
     },
     "execution_count": 39,
     "metadata": {},
     "output_type": "execute_result"
    }
   ],
   "source": [
    "len(new_flow)"
   ]
  },
  {
   "cell_type": "markdown",
   "id": "72704922",
   "metadata": {},
   "source": [
    "이상치를 제거한 두 데이터셋을 이용하여 산점도를 다시 그려라."
   ]
  },
  {
   "cell_type": "code",
   "execution_count": 40,
   "id": "726c25fa",
   "metadata": {},
   "outputs": [
    {
     "data": {
      "image/png": "[encoded data removed]",
      "text/plain": [
       "<Figure size 1000x600 with 1 Axes>"
      ]
     },
     "metadata": {},
     "output_type": "display_data"
    }
   ],
   "source": [
    "plt.scatter(new_flow, new_chl_a)\n",
    "\n",
    "# 그래프 설정\n",
    "plt.xlabel(\"방류량\")           # x축 눈금 설명\n",
    "plt.ylabel(\"클로로필-A\")       # y축 눈금 설명\n",
    "plt.show()"
   ]
  },
  {
   "cell_type": "markdown",
   "id": "60027bf2",
   "metadata": {},
   "source": [
    "**문제**"
   ]
  },
  {
   "cell_type": "markdown",
   "id": "8002b022",
   "metadata": {},
   "source": [
    "이상치를 제거하기 이전과 이후의 데이터셋을 이용하여 아래 값들이 어떻게 달라졌는지 설명하라.\n",
    "\n",
    "- 평균값, 중위수, 최빈값\n",
    "- 범위, 사분범위, 분산, 표준편차\n",
    "- 공분산, 피어슨 상관계수"
   ]
  },
  {
   "cell_type": "markdown",
   "id": "c65f2a3d",
   "metadata": {},
   "source": [
    "답"
   ]
  },
  {
   "cell_type": "markdown",
   "id": "55464de6",
   "metadata": {},
   "source": [
    "앞서 정의한 적절한 함수들을 이용하여 값의 변화를 확인한다."
   ]
  },
  {
   "cell_type": "markdown",
   "id": "76d80766",
   "metadata": {},
   "source": [
    "- 평균: 평균은 조금씩 줄어들었다. 이유는 상대적으로 큰 두 이상치가 제거되었기 때문이다.\n",
    "하지만 데이터 수가 많아서 평균값은 크게 줄지는 않는다."
   ]
  },
  {
   "cell_type": "code",
   "execution_count": 41,
   "id": "21f7f024",
   "metadata": {},
   "outputs": [
    {
     "data": {
      "text/plain": [
       "93.86"
      ]
     },
     "execution_count": 41,
     "metadata": {},
     "output_type": "execute_result"
    }
   ],
   "source": [
    "mean(chl_a)"
   ]
  },
  {
   "cell_type": "code",
   "execution_count": 42,
   "id": "b029f9a3",
   "metadata": {},
   "outputs": [
    {
     "data": {
      "text/plain": [
       "93.43877551020408"
      ]
     },
     "execution_count": 42,
     "metadata": {},
     "output_type": "execute_result"
    }
   ],
   "source": [
    "mean(new_chl_a)"
   ]
  },
  {
   "cell_type": "code",
   "execution_count": 43,
   "id": "ab65460a",
   "metadata": {},
   "outputs": [
    {
     "data": {
      "text/plain": [
       "14.93"
      ]
     },
     "execution_count": 43,
     "metadata": {},
     "output_type": "execute_result"
    }
   ],
   "source": [
    "mean(flow)"
   ]
  },
  {
   "cell_type": "code",
   "execution_count": 44,
   "id": "75085666",
   "metadata": {},
   "outputs": [
    {
     "data": {
      "text/plain": [
       "14.204081632653061"
      ]
     },
     "execution_count": 44,
     "metadata": {},
     "output_type": "execute_result"
    }
   ],
   "source": [
    "mean(new_flow)"
   ]
  },
  {
   "cell_type": "markdown",
   "id": "1fb6e7d5",
   "metadata": {},
   "source": [
    "중위수는 거의 변화 없다. 즉, 중위수는 이상치에 둔감하다."
   ]
  },
  {
   "cell_type": "code",
   "execution_count": 45,
   "id": "a676ab83",
   "metadata": {},
   "outputs": [
    {
     "data": {
      "text/plain": [
       "98.0"
      ]
     },
     "execution_count": 45,
     "metadata": {},
     "output_type": "execute_result"
    }
   ],
   "source": [
    "median(chl_a)"
   ]
  },
  {
   "cell_type": "code",
   "execution_count": 46,
   "id": "88273417",
   "metadata": {},
   "outputs": [
    {
     "data": {
      "text/plain": [
       "97.5"
      ]
     },
     "execution_count": 46,
     "metadata": {},
     "output_type": "execute_result"
    }
   ],
   "source": [
    "median(new_chl_a)"
   ]
  },
  {
   "cell_type": "code",
   "execution_count": 47,
   "id": "da30adba",
   "metadata": {},
   "outputs": [
    {
     "data": {
      "text/plain": [
       "13.0"
      ]
     },
     "execution_count": 47,
     "metadata": {},
     "output_type": "execute_result"
    }
   ],
   "source": [
    "median(flow)"
   ]
  },
  {
   "cell_type": "code",
   "execution_count": 48,
   "id": "fe2803f3",
   "metadata": {},
   "outputs": [
    {
     "data": {
      "text/plain": [
       "13.0"
      ]
     },
     "execution_count": 48,
     "metadata": {},
     "output_type": "execute_result"
    }
   ],
   "source": [
    "median(new_flow)"
   ]
  },
  {
   "cell_type": "markdown",
   "id": "325ef19b",
   "metadata": {},
   "source": [
    "최빈값 또한 변화 없다. 이상치의 빈도가 일반적으로 높지 않아서\n",
    "최빈값에 영향을 주지 않는다."
   ]
  },
  {
   "cell_type": "code",
   "execution_count": 49,
   "id": "9817ca66",
   "metadata": {},
   "outputs": [
    {
     "data": {
      "text/plain": [
       "{122}"
      ]
     },
     "execution_count": 49,
     "metadata": {},
     "output_type": "execute_result"
    }
   ],
   "source": [
    "mode(chl_a)"
   ]
  },
  {
   "cell_type": "code",
   "execution_count": 50,
   "id": "daa3ccdd",
   "metadata": {},
   "outputs": [
    {
     "data": {
      "text/plain": [
       "{122}"
      ]
     },
     "execution_count": 50,
     "metadata": {},
     "output_type": "execute_result"
    }
   ],
   "source": [
    "mode(new_chl_a)"
   ]
  },
  {
   "cell_type": "code",
   "execution_count": 51,
   "id": "f0e4af74",
   "metadata": {},
   "outputs": [
    {
     "data": {
      "text/plain": [
       "{11}"
      ]
     },
     "execution_count": 51,
     "metadata": {},
     "output_type": "execute_result"
    }
   ],
   "source": [
    "mode(flow)"
   ]
  },
  {
   "cell_type": "code",
   "execution_count": 52,
   "id": "59acbc69",
   "metadata": {},
   "outputs": [
    {
     "data": {
      "text/plain": [
       "{11}"
      ]
     },
     "execution_count": 52,
     "metadata": {},
     "output_type": "execute_result"
    }
   ],
   "source": [
    "mode(new_flow)"
   ]
  },
  {
   "cell_type": "markdown",
   "id": "d1a1a3c3",
   "metadata": {},
   "source": [
    "- 범위, 사분범위, 분산, 표준편차"
   ]
  },
  {
   "cell_type": "markdown",
   "id": "8b87f81d",
   "metadata": {},
   "source": [
    "이상치를 제거하면 방류량의 범위가 크게 줄어든다."
   ]
  },
  {
   "cell_type": "code",
   "execution_count": 53,
   "id": "354ad9fd",
   "metadata": {},
   "outputs": [
    {
     "data": {
      "text/plain": [
       "74"
      ]
     },
     "execution_count": 53,
     "metadata": {},
     "output_type": "execute_result"
    }
   ],
   "source": [
    "data_range(chl_a)"
   ]
  },
  {
   "cell_type": "code",
   "execution_count": 54,
   "id": "32d7b85b",
   "metadata": {},
   "outputs": [
    {
     "data": {
      "text/plain": [
       "74"
      ]
     },
     "execution_count": 54,
     "metadata": {},
     "output_type": "execute_result"
    }
   ],
   "source": [
    "data_range(new_chl_a)"
   ]
  },
  {
   "cell_type": "code",
   "execution_count": 55,
   "id": "eef7f3ae",
   "metadata": {},
   "outputs": [
    {
     "data": {
      "text/plain": [
       "43"
      ]
     },
     "execution_count": 55,
     "metadata": {},
     "output_type": "execute_result"
    }
   ],
   "source": [
    "data_range(flow)"
   ]
  },
  {
   "cell_type": "code",
   "execution_count": 56,
   "id": "bccc7692",
   "metadata": {},
   "outputs": [
    {
     "data": {
      "text/plain": [
       "16"
      ]
     },
     "execution_count": 56,
     "metadata": {},
     "output_type": "execute_result"
    }
   ],
   "source": [
    "data_range(new_flow)"
   ]
  },
  {
   "cell_type": "markdown",
   "id": "d48c768a",
   "metadata": {},
   "source": [
    "반면에 사분범위는 변화가 없다. \n",
    "즉, 사분범위는 이상치에 둔감하다."
   ]
  },
  {
   "cell_type": "code",
   "execution_count": 57,
   "id": "40289d5a",
   "metadata": {},
   "outputs": [],
   "source": [
    "def iqr(xs):\n",
    "    \"\"\"제3사분위수 - 제1사분위수\"\"\"\n",
    "    return quantile(xs, 0.75) - quantile(xs, 0.25)"
   ]
  },
  {
   "cell_type": "code",
   "execution_count": 58,
   "id": "8d2a31ea",
   "metadata": {},
   "outputs": [
    {
     "data": {
      "text/plain": [
       "41"
      ]
     },
     "execution_count": 58,
     "metadata": {},
     "output_type": "execute_result"
    }
   ],
   "source": [
    "iqr(chl_a)"
   ]
  },
  {
   "cell_type": "code",
   "execution_count": 59,
   "id": "61cab2a3",
   "metadata": {},
   "outputs": [
    {
     "data": {
      "text/plain": [
       "41"
      ]
     },
     "execution_count": 59,
     "metadata": {},
     "output_type": "execute_result"
    }
   ],
   "source": [
    "iqr(new_chl_a)"
   ]
  },
  {
   "cell_type": "code",
   "execution_count": 60,
   "id": "e6d824d3",
   "metadata": {},
   "outputs": [
    {
     "data": {
      "text/plain": [
       "5"
      ]
     },
     "execution_count": 60,
     "metadata": {},
     "output_type": "execute_result"
    }
   ],
   "source": [
    "iqr(flow)"
   ]
  },
  {
   "cell_type": "code",
   "execution_count": 61,
   "id": "7811c9fd",
   "metadata": {},
   "outputs": [
    {
     "data": {
      "text/plain": [
       "5"
      ]
     },
     "execution_count": 61,
     "metadata": {},
     "output_type": "execute_result"
    }
   ],
   "source": [
    "iqr(new_flow)"
   ]
  },
  {
   "cell_type": "markdown",
   "id": "9d681f19",
   "metadata": {},
   "source": [
    "방류량의 분산과 표준편차가 크게 줄어들었다.\n",
    "즉, 이상치의 영향이 없어져서 데이터의 분산 정도가 크게 줄어들었다."
   ]
  },
  {
   "cell_type": "code",
   "execution_count": 62,
   "id": "d409b33d",
   "metadata": {},
   "outputs": [
    {
     "data": {
      "text/plain": [
       "511.9195959595961"
      ]
     },
     "execution_count": 62,
     "metadata": {},
     "output_type": "execute_result"
    }
   ],
   "source": [
    "var(chl_a)"
   ]
  },
  {
   "cell_type": "code",
   "execution_count": 63,
   "id": "7dfce66f",
   "metadata": {},
   "outputs": [
    {
     "data": {
      "text/plain": [
       "511.6508520934147"
      ]
     },
     "execution_count": 63,
     "metadata": {},
     "output_type": "execute_result"
    }
   ],
   "source": [
    "var(new_chl_a)"
   ]
  },
  {
   "cell_type": "code",
   "execution_count": 64,
   "id": "3ce430c1",
   "metadata": {},
   "outputs": [
    {
     "data": {
      "text/plain": [
       "40.6920202020202"
      ]
     },
     "execution_count": 64,
     "metadata": {},
     "output_type": "execute_result"
    }
   ],
   "source": [
    "var(flow)"
   ]
  },
  {
   "cell_type": "code",
   "execution_count": 65,
   "id": "f532d241",
   "metadata": {},
   "outputs": [
    {
     "data": {
      "text/plain": [
       "14.865137807700393"
      ]
     },
     "execution_count": 65,
     "metadata": {},
     "output_type": "execute_result"
    }
   ],
   "source": [
    "var(new_flow)"
   ]
  },
  {
   "cell_type": "code",
   "execution_count": 66,
   "id": "14251fe6",
   "metadata": {},
   "outputs": [
    {
     "data": {
      "text/plain": [
       "22.62564023314249"
      ]
     },
     "execution_count": 66,
     "metadata": {},
     "output_type": "execute_result"
    }
   ],
   "source": [
    "std(chl_a)"
   ]
  },
  {
   "cell_type": "code",
   "execution_count": 67,
   "id": "2dfe68b0",
   "metadata": {},
   "outputs": [
    {
     "data": {
      "text/plain": [
       "22.61970053058649"
      ]
     },
     "execution_count": 67,
     "metadata": {},
     "output_type": "execute_result"
    }
   ],
   "source": [
    "std(new_chl_a)"
   ]
  },
  {
   "cell_type": "code",
   "execution_count": 68,
   "id": "56e65046",
   "metadata": {},
   "outputs": [
    {
     "data": {
      "text/plain": [
       "6.379029722616144"
      ]
     },
     "execution_count": 68,
     "metadata": {},
     "output_type": "execute_result"
    }
   ],
   "source": [
    "std(flow)"
   ]
  },
  {
   "cell_type": "code",
   "execution_count": 69,
   "id": "c4f117b8",
   "metadata": {},
   "outputs": [
    {
     "data": {
      "text/plain": [
       "3.8555334011911233"
      ]
     },
     "execution_count": 69,
     "metadata": {},
     "output_type": "execute_result"
    }
   ],
   "source": [
    "std(new_flow)"
   ]
  },
  {
   "cell_type": "markdown",
   "id": "36b2eb40",
   "metadata": {},
   "source": [
    "- 공분산, 상관계수"
   ]
  },
  {
   "cell_type": "markdown",
   "id": "562b3889",
   "metadata": {},
   "source": [
    "이상치를 제거하니 공분산과 상관계수의 절대값이 커졌다.\n",
    "즉, 두 데이터의 음의 상관관계가 더 명확해졌다."
   ]
  },
  {
   "cell_type": "code",
   "execution_count": 70,
   "id": "48ee75fe",
   "metadata": {},
   "outputs": [],
   "source": [
    "def cov(xs, ys):\n",
    "    assert len(xs) == len(ys), \"xs와 ys의 길이가 같아야 함.\"\n",
    "\n",
    "    return dotV(dev_mean(xs), dev_mean(ys)) / (len(xs) - 1)"
   ]
  },
  {
   "cell_type": "code",
   "execution_count": 71,
   "id": "deb39820",
   "metadata": {},
   "outputs": [
    {
     "data": {
      "text/plain": [
       "-66.88868686868692"
      ]
     },
     "execution_count": 71,
     "metadata": {},
     "output_type": "execute_result"
    }
   ],
   "source": [
    "cov(chl_a, flow)"
   ]
  },
  {
   "cell_type": "code",
   "execution_count": 72,
   "id": "074b7b8c",
   "metadata": {},
   "outputs": [
    {
     "data": {
      "text/plain": [
       "-83.42036608457812"
      ]
     },
     "execution_count": 72,
     "metadata": {},
     "output_type": "execute_result"
    }
   ],
   "source": [
    "cov(new_chl_a, new_flow)"
   ]
  },
  {
   "cell_type": "code",
   "execution_count": 73,
   "id": "4f3154cf",
   "metadata": {},
   "outputs": [
    {
     "data": {
      "text/plain": [
       "-0.46344389682687775"
      ]
     },
     "execution_count": 73,
     "metadata": {},
     "output_type": "execute_result"
    }
   ],
   "source": [
    "corrcoef(chl_a, flow)"
   ]
  },
  {
   "cell_type": "code",
   "execution_count": 74,
   "id": "7f944de6",
   "metadata": {},
   "outputs": [
    {
     "data": {
      "text/plain": [
       "-0.9565347907790098"
      ]
     },
     "execution_count": 74,
     "metadata": {},
     "output_type": "execute_result"
    }
   ],
   "source": [
    "corrcoef(new_chl_a, new_flow)"
   ]
  }
 ],
 "metadata": {
  "kernelspec": {
   "display_name": "Python 3 (ipykernel)",
   "language": "python",
   "name": "python3"
  },
  "language_info": {
   "codemirror_mode": {
    "name": "ipython",
    "version": 3
   },
   "file_extension": ".py",
   "mimetype": "text/x-python",
   "name": "python",
   "nbconvert_exporter": "python",
   "pygments_lexer": "ipython3",
   "version": "3.11.4"
  },
  "vscode": {
   "interpreter": {
    "hash": "ad0f3c8a064f687cbf898a0868fd45ba1c7e928ac8a0404f7c241d812ddc1e76"
   }
  }
 },
 "nbformat": 4,
 "nbformat_minor": 5
}
