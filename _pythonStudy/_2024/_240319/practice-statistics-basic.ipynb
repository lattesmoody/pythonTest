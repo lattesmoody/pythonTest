{
 "cells": [
  {
   "cell_type": "markdown",
   "id": "4ba112a7",
   "metadata": {},
   "source": [
    "# (실습) 통계 기초"
   ]
  },
  {
   "cell_type": "markdown",
   "id": "9bf97162",
   "metadata": {},
   "source": [
    "**참고**"
   ]
  },
  {
   "cell_type": "markdown",
   "id": "0889b335",
   "metadata": {},
   "source": [
    "[통계 기초](https://codingalzi.github.io/datapy/from_scratch_2.html)에\n",
    "정의된 다음 함수들을 활용할 수 있다.\n",
    "\n",
    "- mean\n",
    "- median\n",
    "- quantile\n",
    "- mode\n",
    "- data_range\n",
    "- iqr\n",
    "- var\n",
    "- std\n",
    "- cov\n",
    "- corrcoef"
   ]
  },
  {
   "cell_type": "markdown",
   "id": "95d60690",
   "metadata": {},
   "source": [
    "**필수 모듈**"
   ]
  },
  {
   "cell_type": "markdown",
   "id": "0a656de8",
   "metadata": {},
   "source": [
    "`matplotlib.pyplot`은 막대그래프, 히스토그램, 산점도 등 데이터를 그래프로 시각화할 때 필요한\n",
    "다양한 함수를 제공하는 모듈이다."
   ]
  },
  {
   "cell_type": "code",
   "execution_count": 1,
   "id": "f5458c79",
   "metadata": {},
   "outputs": [],
   "source": [
    "import matplotlib.pyplot as plt\n",
    "\n",
    "# 그래프 설정\n",
    "plt.rc('figure', figsize=(10, 6))  # 그래프 크기 지정"
   ]
  },
  {
   "cell_type": "code",
   "execution_count": 2,
   "id": "ff6eed7c",
   "metadata": {},
   "outputs": [],
   "source": [
    "import platform\n",
    "import matplotlib as mpl\n",
    "\n",
    "# 윈도우 설정\n",
    "if platform.system() == 'Windows':\n",
    "    font_path = \"C:/Windows/Fonts/NGULIM.TTF\"\n",
    "    font = mpl.font_manager.FontProperties(fname=font_path).get_name()\n",
    "    plt.rc('font', family=font)\n",
    "# 우분투/구글 코랩 설정\n",
    "elif platform.system() == 'Linux':\n",
    "    # 우분투/구글코랩의 경우 아래 명령문이 최소 한번 실행되어야 함\n",
    "    # !sudo apt-get install -y fonts-nanum*\n",
    "    # !fc-cache -fv\n",
    "    \n",
    "    font = \"NanumBarunGothic\"\n",
    "    if not any(map(lambda ft: ft.name == font, mpl.font_manager.fontManager.ttflist)):\n",
    "        mpl.font_manager.fontManager.addfont(\"/usr/share/fonts/truetype/nanum/NanumBarunGothic.ttf\")\n",
    "    plt.rc(\"font\", family=font)\n",
    "    plt.rc(\"axes\", unicode_minus=False)"
   ]
  },
  {
   "cell_type": "markdown",
   "id": "451e25d5",
   "metadata": {},
   "source": [
    "## 데이터 준비"
   ]
  },
  {
   "cell_type": "markdown",
   "id": "5aa9f34e",
   "metadata": {},
   "source": [
    "영산강에 설치된 승천보에서 측정한 두 개의 데이터셋이다.\n",
    "\n",
    "- `chl_a`: 녹조 발생의 주요 요인인 클로로필-A의 수치 100개\n",
    "- `flow`: 보에서 방출되는 시간당 방류량 수치 100개\n",
    "\n",
    "두 데이터셋의 인덱스는 수질(water quality)을 가리키며,\n",
    "높은 숫자일 수록 수질은 나쁘다."
   ]
  },
  {
   "cell_type": "code",
   "execution_count": 3,
   "id": "b07f5968",
   "metadata": {},
   "outputs": [],
   "source": [
    "# 클로로필-A 수치 100개\n",
    "\n",
    "chl_a = [51, 51, 53, 53, 54, 55, 57, 57, 59, 60,\n",
    "         61, 62, 63, 64, 65, 66, 67, 67, 67, 69,\n",
    "         70, 71, 71, 72, 73, 75, 75, 76, 77, 79,\n",
    "         81, 81, 83, 83, 85, 86, 87, 88, 88, 88,\n",
    "         89, 89, 90, 91, 92, 95, 96, 96, 97, 98,\n",
    "         98, 98, 99, 101, 101, 102, 102, 103, 104, 104,\n",
    "         104, 104, 105, 106, 107, 108, 110, 111, 111, 112,\n",
    "         112, 112, 113, 114, 114, 116, 116, 116, 117, 118,\n",
    "         118, 118, 118, 119, 120, 120, 121, 122, 125, 120,\n",
    "         121, 121, 121, 122, 122, 122, 122, 124, 125, 124]"
   ]
  },
  {
   "cell_type": "code",
   "execution_count": 4,
   "id": "7d6a2b0c",
   "metadata": {},
   "outputs": [],
   "source": [
    "# 시간당 방류량 수치 100개\n",
    "\n",
    "flow = [25, 25, 24, 24, 22, 22, 21, 21, 20, 20,\n",
    "        19, 19, 19, 18, 18, 18, 17, 17, 17, 16,\n",
    "        16, 16, 17, 16, 17, 17, 16, 16, 16, 16,\n",
    "        16, 16, 16, 16, 16, 15, 15, 15, 15, 15,\n",
    "        15, 14, 15, 14, 14, 13, 13, 13, 13, 13,\n",
    "        13, 13, 13, 13, 13, 13, 12, 12, 12, 12,\n",
    "        12, 12, 52, 11, 11, 11, 11, 11, 12, 12,\n",
    "        12, 12, 12, 11, 12, 12, 12, 11, 11, 11,\n",
    "        11, 11, 11, 11, 11, 11, 11, 11, 11, 10,\n",
    "        9, 9, 9, 9, 9, 9, 9, 49, 9, 9]"
   ]
  },
  {
   "cell_type": "markdown",
   "id": "4057b988",
   "metadata": {},
   "source": [
    "**문제**"
   ]
  },
  {
   "cell_type": "markdown",
   "id": "dcf9d30b",
   "metadata": {},
   "source": [
    "각각의 데이터셋 크기가 100임을 확인하라.\n",
    "\n",
    "힌트: `len()` 함수"
   ]
  },
  {
   "cell_type": "code",
   "execution_count": 14,
   "id": "f4251f45",
   "metadata": {},
   "outputs": [
    {
     "name": "stdout",
     "output_type": "stream",
     "text": [
      "100\n",
      "100\n"
     ]
    }
   ],
   "source": [
    "print(len(chl_a))\n",
    "\n",
    "print(len(flow))"
   ]
  },
  {
   "cell_type": "markdown",
   "id": "f5dc3aac",
   "metadata": {},
   "source": [
    "**문제**"
   ]
  },
  {
   "cell_type": "markdown",
   "id": "5423885b",
   "metadata": {},
   "source": [
    "가장 높은 클로로필-A의 수치는 얼마인가?"
   ]
  },
  {
   "cell_type": "code",
   "execution_count": 15,
   "id": "b38ff228",
   "metadata": {},
   "outputs": [
    {
     "data": {
      "text/plain": [
       "125"
      ]
     },
     "execution_count": 15,
     "metadata": {},
     "output_type": "execute_result"
    }
   ],
   "source": [
    "max(chl_a)"
   ]
  },
  {
   "cell_type": "markdown",
   "id": "050234f0",
   "metadata": {},
   "source": [
    "**문제**"
   ]
  },
  {
   "cell_type": "markdown",
   "id": "af256b34",
   "metadata": {},
   "source": [
    "가장 낮은 시간당 방류량 수치는 얼마인가?"
   ]
  },
  {
   "cell_type": "code",
   "execution_count": 16,
   "id": "ebf50466",
   "metadata": {},
   "outputs": [
    {
     "data": {
      "text/plain": [
       "9"
      ]
     },
     "execution_count": 16,
     "metadata": {},
     "output_type": "execute_result"
    }
   ],
   "source": [
    "min(flow)"
   ]
  },
  {
   "cell_type": "markdown",
   "id": "fb8a227d",
   "metadata": {},
   "source": [
    "## 데이터 살펴보기"
   ]
  },
  {
   "cell_type": "markdown",
   "id": "37e7ef28",
   "metadata": {},
   "source": [
    "**문제**"
   ]
  },
  {
   "cell_type": "markdown",
   "id": "00a80a4a",
   "metadata": {},
   "source": [
    "클로로필-A 데이터에 포함된 값들의 빈도를 막대그래프로 그려라.\n",
    "\n",
    "힌트: `from collections import Counter`"
   ]
  },
  {
   "cell_type": "code",
   "execution_count": 20,
   "id": "ab5989fa",
   "metadata": {},
   "outputs": [
    {
     "name": "stdout",
     "output_type": "stream",
     "text": [
      "Counter({122: 5, 104: 4, 118: 4, 121: 4, 67: 3, 88: 3, 98: 3, 112: 3, 116: 3, 120: 3, 51: 2, 53: 2, 57: 2, 71: 2, 75: 2, 81: 2, 83: 2, 89: 2, 96: 2, 101: 2, 102: 2, 111: 2, 114: 2, 125: 2, 124: 2, 54: 1, 55: 1, 59: 1, 60: 1, 61: 1, 62: 1, 63: 1, 64: 1, 65: 1, 66: 1, 69: 1, 70: 1, 72: 1, 73: 1, 76: 1, 77: 1, 79: 1, 85: 1, 86: 1, 87: 1, 90: 1, 91: 1, 92: 1, 95: 1, 97: 1, 99: 1, 103: 1, 105: 1, 106: 1, 107: 1, 108: 1, 110: 1, 113: 1, 117: 1, 119: 1})\n"
     ]
    }
   ],
   "source": [
    "from collections import Counter\n",
    "\n",
    "chl_a_counts = Counter(chl_a)\n",
    "print(chl_a_counts)"
   ]
  },
  {
   "cell_type": "markdown",
   "id": "1f41759e",
   "metadata": {},
   "source": [
    "## 중심 경향성과 평균"
   ]
  },
  {
   "cell_type": "markdown",
   "id": "18f4effa",
   "metadata": {},
   "source": [
    "**문제**"
   ]
  },
  {
   "cell_type": "markdown",
   "id": "b354d2bf",
   "metadata": {},
   "source": [
    "방류량의 평균값을 계산하라."
   ]
  },
  {
   "cell_type": "code",
   "execution_count": 23,
   "id": "1ddbe386",
   "metadata": {},
   "outputs": [
    {
     "data": {
      "text/plain": [
       "14.93"
      ]
     },
     "execution_count": 23,
     "metadata": {},
     "output_type": "execute_result"
    }
   ],
   "source": [
    "import numpy as np\n",
    "np.mean(flow)"
   ]
  },
  {
   "cell_type": "markdown",
   "id": "86a72482",
   "metadata": {},
   "source": [
    "**문제**"
   ]
  },
  {
   "cell_type": "markdown",
   "id": "16dc162e",
   "metadata": {},
   "source": [
    "방류량의 중앙값을 계산하라."
   ]
  },
  {
   "cell_type": "code",
   "execution_count": 24,
   "id": "93814d67",
   "metadata": {},
   "outputs": [
    {
     "data": {
      "text/plain": [
       "13.0"
      ]
     },
     "execution_count": 24,
     "metadata": {},
     "output_type": "execute_result"
    }
   ],
   "source": [
    "np.median(flow)"
   ]
  },
  {
   "cell_type": "markdown",
   "id": "2a9785dc",
   "metadata": {},
   "source": [
    "**문제**"
   ]
  },
  {
   "cell_type": "markdown",
   "id": "b72a49d8",
   "metadata": {},
   "source": [
    "방류량의 최빈값을 계산하라."
   ]
  },
  {
   "cell_type": "code",
   "execution_count": 31,
   "id": "57bbd378",
   "metadata": {},
   "outputs": [
    {
     "name": "stdout",
     "output_type": "stream",
     "text": [
      "최빈값: 11 / 해당 count: 18\n"
     ]
    }
   ],
   "source": [
    "# 최빈값: 가장 많이 관측되는 수, 즉 주어진 값 중에서 가장 자주 나오는 값이다.\n",
    "from scipy.stats import mode\n",
    "modeResult = mode(flow)\n",
    "print(f'최빈값: {modeResult.mode} / 해당 count: {modeResult.count}')"
   ]
  },
  {
   "cell_type": "markdown",
   "id": "8b501a41",
   "metadata": {},
   "source": [
    "**문제**"
   ]
  },
  {
   "cell_type": "markdown",
   "id": "30081d43",
   "metadata": {},
   "source": [
    "방류량의 제1, 제3 사분위수를 계산하라."
   ]
  },
  {
   "cell_type": "code",
   "execution_count": null,
   "id": "7ce74e81",
   "metadata": {},
   "outputs": [],
   "source": []
  },
  {
   "cell_type": "markdown",
   "id": "3d9a6797",
   "metadata": {},
   "source": [
    "## 산포도와 분산"
   ]
  },
  {
   "cell_type": "markdown",
   "id": "453df3b1",
   "metadata": {},
   "source": [
    "**문제**"
   ]
  },
  {
   "cell_type": "markdown",
   "id": "2dc793d1",
   "metadata": {},
   "source": [
    "클로로필-A 데이터의 범위를 계산하라."
   ]
  },
  {
   "cell_type": "code",
   "execution_count": 32,
   "id": "23bd71d0",
   "metadata": {},
   "outputs": [
    {
     "data": {
      "text/plain": [
       "74"
      ]
     },
     "execution_count": 32,
     "metadata": {},
     "output_type": "execute_result"
    }
   ],
   "source": [
    "def data_range(xs):\n",
    "  return max(xs) - min(xs)\n",
    "\n",
    "data_range(chl_a)"
   ]
  },
  {
   "cell_type": "markdown",
   "id": "1deb85f8",
   "metadata": {},
   "source": [
    "**문제**"
   ]
  },
  {
   "cell_type": "markdown",
   "id": "f30911df",
   "metadata": {},
   "source": [
    "클로로필-A 데이터의 분산을 계산하라."
   ]
  },
  {
   "cell_type": "code",
   "execution_count": null,
   "id": "bd2353aa",
   "metadata": {},
   "outputs": [],
   "source": []
  },
  {
   "cell_type": "markdown",
   "id": "f6b300c9",
   "metadata": {},
   "source": [
    "**문제**"
   ]
  },
  {
   "cell_type": "markdown",
   "id": "9a156e8b",
   "metadata": {},
   "source": [
    "클로로필-A 데이터의 표준편차를 계산하라."
   ]
  },
  {
   "cell_type": "code",
   "execution_count": null,
   "id": "7a2e8f19",
   "metadata": {},
   "outputs": [],
   "source": []
  },
  {
   "cell_type": "markdown",
   "id": "d73b2b11",
   "metadata": {},
   "source": [
    "## 선형 상관관계"
   ]
  },
  {
   "cell_type": "markdown",
   "id": "da835ea6",
   "metadata": {},
   "source": [
    "**문제**"
   ]
  },
  {
   "cell_type": "markdown",
   "id": "2190b90e",
   "metadata": {},
   "source": [
    "클로로필-A와 시간당 방류량 사이의 공분산을 계산하고\n",
    "두 데이터 사이의 상관관계를 설명하라."
   ]
  },
  {
   "cell_type": "code",
   "execution_count": null,
   "id": "0dc70d6b",
   "metadata": {},
   "outputs": [],
   "source": []
  },
  {
   "cell_type": "markdown",
   "id": "719162e0",
   "metadata": {},
   "source": [
    "**문제**"
   ]
  },
  {
   "cell_type": "markdown",
   "id": "38a364fc",
   "metadata": {},
   "source": [
    "클로로필-A와 시간당 방류량 사이의 피어슨 상관계수를 계산하고\n",
    "두 데이터 사이의 선형 상관관계를 설명하라."
   ]
  },
  {
   "cell_type": "code",
   "execution_count": null,
   "id": "1aef423c",
   "metadata": {},
   "outputs": [],
   "source": []
  },
  {
   "cell_type": "markdown",
   "id": "e3df3dc0",
   "metadata": {},
   "source": [
    "## 이상치"
   ]
  },
  {
   "cell_type": "markdown",
   "id": "0396b3f7",
   "metadata": {},
   "source": [
    "**산점도**"
   ]
  },
  {
   "cell_type": "markdown",
   "id": "ce0db165",
   "metadata": {},
   "source": [
    "x축을 방류량, y축을 클로로필-A 수치로 지정한 다음 산점도를 그려보자."
   ]
  },
  {
   "cell_type": "code",
   "execution_count": 5,
   "id": "e1082a1a",
   "metadata": {},
   "outputs": [
    {
     "data": {
      "image/png": "[encoded data removed]",
      "text/plain": [
       "<Figure size 1000x600 with 1 Axes>"
      ]
     },
     "metadata": {},
     "output_type": "display_data"
    }
   ],
   "source": [
    "plt.scatter(flow, chl_a)\n",
    "\n",
    "# 그래프 설정\n",
    "plt.xlabel(\"방류량\")           # x축 눈금 설명\n",
    "plt.ylabel(\"클로로필-A\")       # y축 눈금 설명\n",
    "plt.show()"
   ]
  },
  {
   "cell_type": "markdown",
   "id": "81fdd2f3",
   "metadata": {},
   "source": [
    "**문제**"
   ]
  },
  {
   "cell_type": "markdown",
   "id": "fe1b7c70",
   "metadata": {},
   "source": [
    "위 산점도에 따르면 두 개의 이상치가 존재한다.\n",
    "어떤 데이터가 이상치인지 설명하라."
   ]
  },
  {
   "cell_type": "markdown",
   "id": "161908a9",
   "metadata": {},
   "source": []
  },
  {
   "cell_type": "markdown",
   "id": "5a45e5c2",
   "metadata": {},
   "source": [
    "**문제**"
   ]
  },
  {
   "cell_type": "markdown",
   "id": "34b67544",
   "metadata": {},
   "source": [
    "클로로필-A 데이터와 방수량 두 데이터셋 모두에서\n",
    "이상치에 해당하는 두 개의 값을 제거한다."
   ]
  },
  {
   "cell_type": "code",
   "execution_count": 6,
   "id": "3e97166c",
   "metadata": {},
   "outputs": [],
   "source": [
    "# None을 적절한 표현식으로 대체할 것.\n",
    "\n",
    "new_chl_a = None"
   ]
  },
  {
   "cell_type": "code",
   "execution_count": 7,
   "id": "36cc9fbd",
   "metadata": {},
   "outputs": [],
   "source": [
    "# None을 적절한 표현식으로 대체할 것.\n",
    "\n",
    "new_flow = None"
   ]
  },
  {
   "cell_type": "markdown",
   "id": "72704922",
   "metadata": {},
   "source": [
    "이상치를 제거한 두 데이터셋을 이용하여 산점도를 다시 그려라."
   ]
  },
  {
   "cell_type": "code",
   "execution_count": 8,
   "id": "726c25fa",
   "metadata": {},
   "outputs": [
    {
     "data": {
      "image/png": "[encoded data removed]",
      "text/plain": [
       "<Figure size 1000x600 with 1 Axes>"
      ]
     },
     "metadata": {},
     "output_type": "display_data"
    }
   ],
   "source": [
    "plt.scatter(new_flow, new_chl_a)\n",
    "\n",
    "# 그래프 설정\n",
    "plt.xlabel(\"방류량\")           # x축 눈금 설명\n",
    "plt.ylabel(\"클로로필-A\")       # y축 눈금 설명\n",
    "plt.show()"
   ]
  },
  {
   "cell_type": "markdown",
   "id": "60027bf2",
   "metadata": {},
   "source": [
    "**문제**"
   ]
  },
  {
   "cell_type": "markdown",
   "id": "8002b022",
   "metadata": {},
   "source": [
    "이상치를 제거하기 이전과 이후의 데이터셋을 이용하여 아래 값들이 어떻게 달라졌는지 설명하라.\n",
    "\n",
    "- 평균값, 중앙값, 최빈값\n",
    "- 범위, 사분범위, 분산, 표준편차\n",
    "- 공분산, 피어슨 상관계수"
   ]
  },
  {
   "cell_type": "markdown",
   "id": "c65f2a3d",
   "metadata": {},
   "source": []
  }
 ],
 "metadata": {
  "kernelspec": {
   "display_name": "Python 3 (ipykernel)",
   "language": "python",
   "name": "python3"
  },
  "language_info": {
   "codemirror_mode": {
    "name": "ipython",
    "version": 3
   },
   "file_extension": ".py",
   "mimetype": "text/x-python",
   "name": "python",
   "nbconvert_exporter": "python",
   "pygments_lexer": "ipython3",
   "version": "3.12.0"
  },
  "vscode": {
   "interpreter": {
    "hash": "ad0f3c8a064f687cbf898a0868fd45ba1c7e928ac8a0404f7c241d812ddc1e76"
   }
  }
 },
 "nbformat": 4,
 "nbformat_minor": 5
}
