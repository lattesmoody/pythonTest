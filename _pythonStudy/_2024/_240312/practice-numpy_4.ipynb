{
 "cells": [
  {
   "cell_type": "markdown",
   "id": "97ecff92",
   "metadata": {
    "id": "vN2D9cmLHZ3_"
   },
   "source": [
    "# (실습) 고급 넘파이"
   ]
  },
  {
   "cell_type": "code",
   "execution_count": 2,
   "id": "83c36ad1",
   "metadata": {
    "id": "J71Fcvihxzi9"
   },
   "outputs": [],
   "source": [
    "import numpy as np"
   ]
  },
  {
   "cell_type": "markdown",
   "id": "6eccf313",
   "metadata": {},
   "source": [
    "**문제 1**"
   ]
  },
  {
   "cell_type": "markdown",
   "id": "69c159d5",
   "metadata": {},
   "source": [
    "아래 모양의 어레이를 생성하라.\n",
    "단, `np.arange()` 함수와 `reshape()` 어레이 메서드를 이용한다.\n",
    "\n",
    "```python\n",
    "array([[ 1,  3,  5,  7,  9],\n",
    "       [11, 13, 15, 17, 19],\n",
    "       [21, 23, 25, 27, 29],\n",
    "       [31, 33, 35, 37, 39]])\n",
    "```"
   ]
  },
  {
   "cell_type": "code",
   "execution_count": 4,
   "id": "655984ca",
   "metadata": {},
   "outputs": [
    {
     "name": "stdout",
     "output_type": "stream",
     "text": [
      "[[ 1  3  5  7  9]\n",
      " [11 13 15 17 19]\n",
      " [21 23 25 27 29]\n",
      " [31 33 35 37 39]]\n"
     ]
    }
   ],
   "source": [
    "Z = np.arange(1,40,2).reshape(4,5)\n",
    "print(Z)"
   ]
  },
  {
   "cell_type": "markdown",
   "id": "93a2cdf7",
   "metadata": {},
   "source": [
    "아래 코드는 수정하지 마세요!!!"
   ]
  },
  {
   "cell_type": "code",
   "execution_count": 3,
   "id": "71dc3423",
   "metadata": {},
   "outputs": [],
   "source": [
    "assert (Z == np.array([[ 1,  3,  5,  7,  9],\n",
    "                        [11, 13, 15, 17, 19],\n",
    "                        [21, 23, 25, 27, 29],\n",
    "                        [31, 33, 35, 37, 39]])).all()"
   ]
  },
  {
   "cell_type": "markdown",
   "id": "59e92974",
   "metadata": {},
   "source": [
    "**문제 2**"
   ]
  },
  {
   "cell_type": "markdown",
   "id": "de943983",
   "metadata": {},
   "source": [
    "아래 그림 내용을 코드로 구현하라."
   ]
  },
  {
   "cell_type": "markdown",
   "id": "4cf91e91",
   "metadata": {},
   "source": [
    "<div align=\"center\"><img src=\"https://raw.githubusercontent.com/codingalzi/datapy/master/jupyter-book/images/concatenate01.png?raw=true\" style=\"width:500px;\"></div>\n",
    "\n",
    "<p><div style=\"text-align: center\">&lt;그림 출처: <a href=\"https://stackoverflow.com/questions/33356442/when-should-i-use-hstack-vstack-vs-append-vs-concatenate-vs-column-stack\">stackoverflow</a>&gt;</div></p>"
   ]
  },
  {
   "cell_type": "code",
   "execution_count": 5,
   "id": "f39d7764",
   "metadata": {},
   "outputs": [],
   "source": [
    "a = np.arange(1, 13).reshape(3, 4)\n",
    "b = np.arange(1, 9).reshape(2, 4)\n",
    "c = np.arange(1, 7).reshape(3, 2)"
   ]
  },
  {
   "cell_type": "code",
   "execution_count": 6,
   "id": "56883212",
   "metadata": {},
   "outputs": [
    {
     "name": "stdout",
     "output_type": "stream",
     "text": [
      "[[ 1  2  3  4]\n",
      " [ 5  6  7  8]\n",
      " [ 9 10 11 12]\n",
      " [ 1  2  3  4]\n",
      " [ 5  6  7  8]]\n"
     ]
    }
   ],
   "source": [
    "V = np.vstack((a,b))  # vstack 활용\n",
    "print(V)"
   ]
  },
  {
   "cell_type": "code",
   "execution_count": 7,
   "id": "def0f14d",
   "metadata": {},
   "outputs": [
    {
     "name": "stdout",
     "output_type": "stream",
     "text": [
      "[[ 1  2  3  4  1  2]\n",
      " [ 5  6  7  8  3  4]\n",
      " [ 9 10 11 12  5  6]]\n"
     ]
    }
   ],
   "source": [
    "H = np.hstack((a,c))  # hstack 활용\n",
    "print(H)"
   ]
  },
  {
   "cell_type": "markdown",
   "id": "cec9aec2",
   "metadata": {},
   "source": [
    "아래 코드는 수정하지 마세요!!!"
   ]
  },
  {
   "cell_type": "code",
   "execution_count": 7,
   "id": "fdc3a9bd",
   "metadata": {},
   "outputs": [],
   "source": [
    "assert (V == np.array([[ 1,  2,  3,  4],\n",
    "                        [ 5,  6,  7,  8],\n",
    "                        [ 9, 10, 11, 12],\n",
    "                        [ 1,  2,  3,  4],\n",
    "                        [ 5,  6,  7,  8]])).all()\n",
    "\n",
    "assert (H == np.array([[ 1,  2,  3,  4,  1,  2],\n",
    "                        [ 5,  6,  7,  8,  3,  4],\n",
    "                        [ 9, 10, 11, 12,  5,  6]])).all()"
   ]
  },
  {
   "cell_type": "markdown",
   "id": "ce2de049",
   "metadata": {},
   "source": [
    "**문제 3**"
   ]
  },
  {
   "attachments": {},
   "cell_type": "markdown",
   "id": "88ef422f",
   "metadata": {},
   "source": [
    "이전 문제에서 정의된 `V`, `H`를 `concatenate()` 함수를 이용하여 정의하라."
   ]
  },
  {
   "cell_type": "code",
   "execution_count": 8,
   "id": "ad209c7f",
   "metadata": {},
   "outputs": [
    {
     "name": "stdout",
     "output_type": "stream",
     "text": [
      "[[ 1  2  3  4]\n",
      " [ 5  6  7  8]\n",
      " [ 9 10 11 12]\n",
      " [ 1  2  3  4]\n",
      " [ 5  6  7  8]]\n"
     ]
    }
   ],
   "source": [
    "V = np.concatenate([a,b],axis=0)\n",
    "print(V)"
   ]
  },
  {
   "cell_type": "code",
   "execution_count": 9,
   "id": "ff315222",
   "metadata": {},
   "outputs": [
    {
     "name": "stdout",
     "output_type": "stream",
     "text": [
      "[[ 1  2  3  4  1  2]\n",
      " [ 5  6  7  8  3  4]\n",
      " [ 9 10 11 12  5  6]]\n"
     ]
    }
   ],
   "source": [
    "H = np.concatenate([a,c],axis=1)\n",
    "print(H)"
   ]
  },
  {
   "cell_type": "markdown",
   "id": "1c7f224a",
   "metadata": {},
   "source": [
    "아래 코드는 수정하지 마세요!!!"
   ]
  },
  {
   "cell_type": "code",
   "execution_count": 10,
   "id": "9b7d7438",
   "metadata": {},
   "outputs": [],
   "source": [
    "assert (V == np.array([[ 1,  2,  3,  4],\n",
    "                        [ 5,  6,  7,  8],\n",
    "                        [ 9, 10, 11, 12],\n",
    "                        [ 1,  2,  3,  4],\n",
    "                        [ 5,  6,  7,  8]])).all()\n",
    "\n",
    "assert (H == np.array([[ 1,  2,  3,  4,  1,  2],\n",
    "                        [ 5,  6,  7,  8,  3,  4],\n",
    "                        [ 9, 10, 11, 12,  5,  6]])).all()"
   ]
  },
  {
   "cell_type": "markdown",
   "id": "144dc9f6",
   "metadata": {},
   "source": [
    "**문제 4**"
   ]
  },
  {
   "cell_type": "markdown",
   "id": "063bdce6",
   "metadata": {},
   "source": [
    "아래 모양의 어레이를 생성하는 코드를 완성하라.\n",
    "단, `np.newaxis` 키워드를 이용한다.\n",
    "\n",
    "```python\n",
    "array([[ 0,  0,  0],\n",
    "       [10, 10, 10],\n",
    "       [20, 20, 20],\n",
    "       [30, 30, 30]])\n",
    "```"
   ]
  },
  {
   "cell_type": "code",
   "execution_count": 20,
   "id": "5bafbda7",
   "metadata": {},
   "outputs": [
    {
     "name": "stdout",
     "output_type": "stream",
     "text": [
      "[ 0 10 20 30]\n",
      "[0 0 0]\n",
      "[[ 0  0  0]\n",
      " [10 10 10]\n",
      " [20 20 20]\n",
      " [30 30 30]]\n"
     ]
    }
   ],
   "source": [
    "a = np.arange(0, 31, 10)\n",
    "b = np.array([0]*3)\n",
    "\n",
    "print(a)\n",
    "print(b)\n",
    "\n",
    "Z = a[:, np.newaxis].repeat(3,axis=1)\n",
    "\n",
    "print(Z)"
   ]
  },
  {
   "cell_type": "markdown",
   "id": "23f3c272",
   "metadata": {},
   "source": [
    "아래 코드는 수정하지 마세요!!!"
   ]
  },
  {
   "cell_type": "code",
   "execution_count": 12,
   "id": "1fe4c0b9",
   "metadata": {},
   "outputs": [],
   "source": [
    "assert (Z == np.array([[ 0,  0,  0],\n",
    "                        [10, 10, 10],\n",
    "                        [20, 20, 20],\n",
    "                        [30, 30, 30]])).all()"
   ]
  },
  {
   "cell_type": "markdown",
   "id": "80a66f39",
   "metadata": {},
   "source": [
    "**문제 5**"
   ]
  },
  {
   "cell_type": "markdown",
   "id": "7a5c2c2f",
   "metadata": {},
   "source": [
    "아래 모양의 어레이를 생성하는 코드를 완성하라.\n",
    "단, `np.newaxis` 키워드를 이용한다.\n",
    "\n",
    "```python\n",
    "array([[ 1,  2,  3],\n",
    "       [11, 12, 13],\n",
    "       [21, 22, 23],\n",
    "       [31, 32, 33]])\n",
    "```"
   ]
  },
  {
   "cell_type": "code",
   "execution_count": 24,
   "id": "839866f3",
   "metadata": {},
   "outputs": [
    {
     "name": "stdout",
     "output_type": "stream",
     "text": [
      "[ 0 10 20 30]\n",
      "[[ 0  0  0]\n",
      " [10 10 10]\n",
      " [20 20 20]\n",
      " [30 30 30]]\n",
      "[[ 1  1  1]\n",
      " [11 11 11]\n",
      " [21 21 21]\n",
      " [31 31 31]]\n"
     ]
    }
   ],
   "source": [
    "a = np.arange(0, 31, 10)\n",
    "print(a)\n",
    "b = a[:, np.newaxis].repeat(3,axis=1) \n",
    "print(b)\n",
    "\n",
    "Z = b + 1\n",
    "print(Z)"
   ]
  },
  {
   "cell_type": "markdown",
   "id": "46d4797e",
   "metadata": {},
   "source": [
    "아래 코드는 수정하지 마세요!!!"
   ]
  },
  {
   "cell_type": "code",
   "execution_count": 14,
   "id": "42585269",
   "metadata": {},
   "outputs": [],
   "source": [
    "assert (Z == np.array([[ 1,  2,  3],\n",
    "                        [11, 12, 13],\n",
    "                        [21, 22, 23],\n",
    "                        [31, 32, 33]])).all()"
   ]
  },
  {
   "cell_type": "markdown",
   "id": "0dc00b7a",
   "metadata": {},
   "source": [
    "**문제 6**"
   ]
  },
  {
   "cell_type": "markdown",
   "id": "12a8395d",
   "metadata": {},
   "source": [
    "어레이가 다음과 같이 주어졌다."
   ]
  },
  {
   "cell_type": "code",
   "execution_count": 15,
   "id": "6cee0104",
   "metadata": {},
   "outputs": [],
   "source": [
    "a = np.array([[0.8, 2.9, 3.9],\n",
    "              [52.4, 23.6, 36.5],\n",
    "              [55.2, 31.7, 23.9],\n",
    "              [14.4, 11, 4.9]])"
   ]
  },
  {
   "cell_type": "markdown",
   "id": "7eddce3a",
   "metadata": {},
   "source": [
    "0번 열은 2배, 1번 열은 3배, 2번 열은 8배를 적용하는 코드를 완성하라."
   ]
  },
  {
   "cell_type": "code",
   "execution_count": null,
   "id": "4bda114b",
   "metadata": {},
   "outputs": [],
   "source": [
    "b = None\n",
    "Z = None"
   ]
  },
  {
   "cell_type": "markdown",
   "id": "db552a39",
   "metadata": {},
   "source": [
    "아래 코드는 수정하지 마세요!!!"
   ]
  },
  {
   "cell_type": "code",
   "execution_count": 17,
   "id": "af6a6fc6",
   "metadata": {},
   "outputs": [],
   "source": [
    "assert np.allclose(Z, np.array([[  1.6,   8.7,  31.2],\n",
    "                                 [104.8,  70.8, 292. ],\n",
    "                                 [110.4,  95.1, 191.2],\n",
    "                                 [ 28.8,  33. ,  39.2]]))"
   ]
  },
  {
   "cell_type": "markdown",
   "id": "c3a6ee8b",
   "metadata": {},
   "source": [
    "**문제 7**"
   ]
  },
  {
   "cell_type": "markdown",
   "id": "2f70e989",
   "metadata": {},
   "source": [
    "2차원 어레이 `X`가 다음과 같이 주어졌다."
   ]
  },
  {
   "cell_type": "code",
   "execution_count": 18,
   "id": "1feec4a1",
   "metadata": {},
   "outputs": [],
   "source": [
    "X = np.array([[58, 68, 54, 21, 13, 97, 33],\n",
    "              [60, 49, 12, 88, 50, 43, 99],\n",
    "              [80, 46, 51,  7, 32, 85,  4],\n",
    "              [93, 18, 86, 79, 17, 16, 59],\n",
    "              [88, 88, 62, 98, 86, 45, 33]])"
   ]
  },
  {
   "cell_type": "markdown",
   "id": "5d0f6759",
   "metadata": {},
   "source": [
    "(1) 행렬의 각 행의 평균값으로 이루어진 (5, 1) 모양의 2차원 어레이 `X_mean_1`을 생성하라.\n",
    "단, 소수점 이하는 버리는 `np.int32` dtype을 사용한다.\n",
    "또한 `mean()` 메서드, `axis`와 `keepdims` 키워드 인자, `astype()` 메서드를 이용한다."
   ]
  },
  {
   "cell_type": "code",
   "execution_count": 19,
   "id": "47f0862b",
   "metadata": {},
   "outputs": [],
   "source": [
    "X_mean_1 = None"
   ]
  },
  {
   "cell_type": "markdown",
   "id": "027fd88f",
   "metadata": {},
   "source": [
    "아래 코드는 수정하지 마세요!!!"
   ]
  },
  {
   "cell_type": "code",
   "execution_count": 20,
   "id": "6aafda71",
   "metadata": {},
   "outputs": [],
   "source": [
    "assert (X_mean_1 == np.array([[49], [57], [43], [52], [71]])).all()"
   ]
  },
  {
   "cell_type": "markdown",
   "id": "1b9123ad",
   "metadata": {},
   "source": [
    "(2) `X`의 항목과 각 행별 평균값의 차이로 이루어진 (5, 7) 모양의 2차원 어레이를 변수 `Z` 가 가리키도록 하라."
   ]
  },
  {
   "cell_type": "code",
   "execution_count": 21,
   "id": "b69c49f5",
   "metadata": {},
   "outputs": [],
   "source": [
    "Z = None"
   ]
  },
  {
   "cell_type": "markdown",
   "id": "a269d886",
   "metadata": {},
   "source": [
    "아래 코드는 수정하지 마세요!!!"
   ]
  },
  {
   "cell_type": "code",
   "execution_count": 22,
   "id": "f3e8c3a2",
   "metadata": {},
   "outputs": [],
   "source": [
    "assert (Z == np.array([[  9,  19,   5, -28, -36,  48, -16],\n",
    "                        [  3,  -8, -45,  31,  -7, -14,  42],\n",
    "                        [ 37,   3,   8, -36, -11,  42, -39],\n",
    "                        [ 41, -34,  34,  27, -35, -36,   7],\n",
    "                        [ 17,  17,  -9,  27,  15, -26, -38]])).all()"
   ]
  },
  {
   "cell_type": "markdown",
   "id": "0b1b88e5",
   "metadata": {},
   "source": [
    "**문제 8**"
   ]
  },
  {
   "cell_type": "markdown",
   "id": "4fa0b4c5",
   "metadata": {},
   "source": [
    "(1) 아래 어레이를 표준화하라.\n",
    "즉, 항목들의 평균값은 0, 표준편차는 1이 되도록 한다.\n",
    "단, `mean()` 메서드와 `std()` 메서드를 이용한다."
   ]
  },
  {
   "cell_type": "code",
   "execution_count": 23,
   "id": "5144bc7f",
   "metadata": {},
   "outputs": [
    {
     "data": {
      "text/plain": [
       "array([[0.45929065, 0.51003263, 0.20130374],\n",
       "       [0.14553418, 0.81492858, 0.49896195],\n",
       "       [0.2085156 , 0.38248135, 0.43851502],\n",
       "       [0.35146367, 0.09763092, 0.27231546]])"
      ]
     },
     "execution_count": 23,
     "metadata": {},
     "output_type": "execute_result"
    }
   ],
   "source": [
    "X = np.random.rand(4, 3)\n",
    "X"
   ]
  },
  {
   "cell_type": "code",
   "execution_count": 24,
   "id": "580154be",
   "metadata": {},
   "outputs": [],
   "source": [
    "mean = None\n",
    "std_var = None\n",
    "\n",
    "Z = (X - mean)/std_var"
   ]
  },
  {
   "cell_type": "markdown",
   "id": "b263db9e",
   "metadata": {},
   "source": [
    "아래 코드는 수정하지 마세요!!!"
   ]
  },
  {
   "cell_type": "code",
   "execution_count": 27,
   "id": "cf3ccf43",
   "metadata": {},
   "outputs": [],
   "source": [
    "assert (round(Z.mean(), 2) == 0.0)\n",
    "assert (round(Z.std(), 1) == 1.)"
   ]
  },
  {
   "cell_type": "markdown",
   "id": "597b7b5a",
   "metadata": {},
   "source": [
    "(2) `X`를 행 별로 표준화하라.\n",
    "즉, 각 행의 평균값은 0, 표준편차는 1이 되도록 한다."
   ]
  },
  {
   "cell_type": "code",
   "execution_count": null,
   "id": "3fe505c0",
   "metadata": {},
   "outputs": [],
   "source": [
    "Z = None"
   ]
  },
  {
   "cell_type": "markdown",
   "id": "f4fb97a4",
   "metadata": {},
   "source": [
    "아래 코드는 수정하지 마세요!!!"
   ]
  },
  {
   "cell_type": "code",
   "execution_count": 31,
   "id": "d781becc",
   "metadata": {},
   "outputs": [],
   "source": [
    "assert (np.round(Z.mean(axis=1), 1) == 0.).all()\n",
    "assert (np.round(Z.std(axis=1), 1) == 1.).all()"
   ]
  }
 ],
 "metadata": {
  "kernelspec": {
   "display_name": "base",
   "language": "python",
   "name": "python3"
  },
  "language_info": {
   "codemirror_mode": {
    "name": "ipython",
    "version": 3
   },
   "file_extension": ".py",
   "mimetype": "text/x-python",
   "name": "python",
   "nbconvert_exporter": "python",
   "pygments_lexer": "ipython3",
   "version": "3.12.0"
  },
  "vscode": {
   "interpreter": {
    "hash": "ad0f3c8a064f687cbf898a0868fd45ba1c7e928ac8a0404f7c241d812ddc1e76"
   }
  }
 },
 "nbformat": 4,
 "nbformat_minor": 5
}
