{
 "cells": [
  {
   "cell_type": "markdown",
   "id": "f3c17522",
   "metadata": {},
   "source": [
    "# (실습) matplotlib.pyplot 1부"
   ]
  },
  {
   "cell_type": "markdown",
   "id": "47758ef7",
   "metadata": {},
   "source": [
    "**기본 설정**"
   ]
  },
  {
   "cell_type": "code",
   "execution_count": 1,
   "id": "7309d4a3",
   "metadata": {},
   "outputs": [],
   "source": [
    "import numpy as np"
   ]
  },
  {
   "cell_type": "markdown",
   "id": "708a6c52",
   "metadata": {},
   "source": [
    "맷플롯립<font size='2'>Matplotlib</font>은 간단한 그래프 도구를 제공하는 라이브러리다. \n",
    "맷플롯립의 대부분의 함수는 파이플롯<font size='2'>pyplot</font> 모듈에 포함되어 있으며\n",
    "관행적으로 `plt` 별칭으로 불러온다."
   ]
  },
  {
   "cell_type": "code",
   "execution_count": 2,
   "id": "c70b4ad3",
   "metadata": {},
   "outputs": [],
   "source": [
    "import matplotlib.pyplot as plt"
   ]
  },
  {
   "cell_type": "markdown",
   "id": "74225175",
   "metadata": {},
   "source": [
    "## 미니 프로젝트: 붓꽃 데이터셋 분류 그래프"
   ]
  },
  {
   "cell_type": "markdown",
   "id": "1c5dcf48",
   "metadata": {},
   "source": [
    "붓꽃 데이터셋을 아래 방식으로 불러온다. "
   ]
  },
  {
   "cell_type": "code",
   "execution_count": 3,
   "id": "4473806b",
   "metadata": {},
   "outputs": [],
   "source": [
    "from sklearn.datasets import load_iris\n",
    "\n",
    "iris = load_iris(as_frame=True)"
   ]
  },
  {
   "cell_type": "markdown",
   "id": "3afd1a9e",
   "metadata": {},
   "source": [
    ":::{admonition} 사이킷런<font size='2'>scikit-learn</font> 라이브러리\n",
    ":class:\n",
    "\n",
    "사이킷런 라이브러리는 머신러닝에 가장 중요한 라이브러리 중 하나며,\n",
    "다양한 데이터셋을 기본으로 제공한다.\n",
    ":::"
   ]
  },
  {
   "cell_type": "markdown",
   "id": "73477dfa",
   "metadata": {},
   "source": [
    "`load_iris()` 함수의 반환값은 사이킷런 라이브리의 `utils` 모듈에서 정의된 `Bunch` 자료형이다. "
   ]
  },
  {
   "cell_type": "code",
   "execution_count": 4,
   "id": "279541cb",
   "metadata": {},
   "outputs": [
    {
     "data": {
      "text/plain": [
       "sklearn.utils.Bunch"
      ]
     },
     "execution_count": 4,
     "metadata": {},
     "output_type": "execute_result"
    }
   ],
   "source": [
    "type(iris)"
   ]
  },
  {
   "cell_type": "markdown",
   "id": "5af29aef",
   "metadata": {},
   "source": [
    "`Bunch` 객체는 데이터셋을 사전 형식으로 담으며, 키를 객체의 속성처럼 다룰 수 있다.\n",
    "사용된 키를 확인해보자."
   ]
  },
  {
   "cell_type": "code",
   "execution_count": 5,
   "id": "74ab550d",
   "metadata": {},
   "outputs": [
    {
     "data": {
      "text/plain": [
       "dict_keys(['data', 'target', 'frame', 'target_names', 'DESCR', 'feature_names', 'filename', 'data_module'])"
      ]
     },
     "execution_count": 5,
     "metadata": {},
     "output_type": "execute_result"
    }
   ],
   "source": [
    "iris.keys()"
   ]
  },
  {
   "cell_type": "markdown",
   "id": "a2b2e9ff",
   "metadata": {},
   "source": [
    "이중에 붓꽃 데이터는 `'data'` 키의 값으로 저장되어 있으며, 데이터프레임 객체다."
   ]
  },
  {
   "cell_type": "code",
   "execution_count": 6,
   "id": "e7eab57d",
   "metadata": {},
   "outputs": [
    {
     "data": {
      "text/html": [
       "<div>\n",
       "<style scoped>\n",
       "    .dataframe tbody tr th:only-of-type {\n",
       "        vertical-align: middle;\n",
       "    }\n",
       "\n",
       "    .dataframe tbody tr th {\n",
       "        vertical-align: top;\n",
       "    }\n",
       "\n",
       "    .dataframe thead th {\n",
       "        text-align: right;\n",
       "    }\n",
       "</style>\n",
       "<table border=\"1\" class=\"dataframe\">\n",
       "  <thead>\n",
       "    <tr style=\"text-align: right;\">\n",
       "      <th></th>\n",
       "      <th>sepal length (cm)</th>\n",
       "      <th>sepal width (cm)</th>\n",
       "      <th>petal length (cm)</th>\n",
       "      <th>petal width (cm)</th>\n",
       "    </tr>\n",
       "  </thead>\n",
       "  <tbody>\n",
       "    <tr>\n",
       "      <th>0</th>\n",
       "      <td>5.1</td>\n",
       "      <td>3.5</td>\n",
       "      <td>1.4</td>\n",
       "      <td>0.2</td>\n",
       "    </tr>\n",
       "    <tr>\n",
       "      <th>1</th>\n",
       "      <td>4.9</td>\n",
       "      <td>3.0</td>\n",
       "      <td>1.4</td>\n",
       "      <td>0.2</td>\n",
       "    </tr>\n",
       "    <tr>\n",
       "      <th>2</th>\n",
       "      <td>4.7</td>\n",
       "      <td>3.2</td>\n",
       "      <td>1.3</td>\n",
       "      <td>0.2</td>\n",
       "    </tr>\n",
       "    <tr>\n",
       "      <th>3</th>\n",
       "      <td>4.6</td>\n",
       "      <td>3.1</td>\n",
       "      <td>1.5</td>\n",
       "      <td>0.2</td>\n",
       "    </tr>\n",
       "    <tr>\n",
       "      <th>4</th>\n",
       "      <td>5.0</td>\n",
       "      <td>3.6</td>\n",
       "      <td>1.4</td>\n",
       "      <td>0.2</td>\n",
       "    </tr>\n",
       "    <tr>\n",
       "      <th>...</th>\n",
       "      <td>...</td>\n",
       "      <td>...</td>\n",
       "      <td>...</td>\n",
       "      <td>...</td>\n",
       "    </tr>\n",
       "    <tr>\n",
       "      <th>145</th>\n",
       "      <td>6.7</td>\n",
       "      <td>3.0</td>\n",
       "      <td>5.2</td>\n",
       "      <td>2.3</td>\n",
       "    </tr>\n",
       "    <tr>\n",
       "      <th>146</th>\n",
       "      <td>6.3</td>\n",
       "      <td>2.5</td>\n",
       "      <td>5.0</td>\n",
       "      <td>1.9</td>\n",
       "    </tr>\n",
       "    <tr>\n",
       "      <th>147</th>\n",
       "      <td>6.5</td>\n",
       "      <td>3.0</td>\n",
       "      <td>5.2</td>\n",
       "      <td>2.0</td>\n",
       "    </tr>\n",
       "    <tr>\n",
       "      <th>148</th>\n",
       "      <td>6.2</td>\n",
       "      <td>3.4</td>\n",
       "      <td>5.4</td>\n",
       "      <td>2.3</td>\n",
       "    </tr>\n",
       "    <tr>\n",
       "      <th>149</th>\n",
       "      <td>5.9</td>\n",
       "      <td>3.0</td>\n",
       "      <td>5.1</td>\n",
       "      <td>1.8</td>\n",
       "    </tr>\n",
       "  </tbody>\n",
       "</table>\n",
       "<p>150 rows × 4 columns</p>\n",
       "</div>"
      ],
      "text/plain": [
       "     sepal length (cm)  sepal width (cm)  petal length (cm)  petal width (cm)\n",
       "0                  5.1               3.5                1.4               0.2\n",
       "1                  4.9               3.0                1.4               0.2\n",
       "2                  4.7               3.2                1.3               0.2\n",
       "3                  4.6               3.1                1.5               0.2\n",
       "4                  5.0               3.6                1.4               0.2\n",
       "..                 ...               ...                ...               ...\n",
       "145                6.7               3.0                5.2               2.3\n",
       "146                6.3               2.5                5.0               1.9\n",
       "147                6.5               3.0                5.2               2.0\n",
       "148                6.2               3.4                5.4               2.3\n",
       "149                5.9               3.0                5.1               1.8\n",
       "\n",
       "[150 rows x 4 columns]"
      ]
     },
     "execution_count": 6,
     "metadata": {},
     "output_type": "execute_result"
    }
   ],
   "source": [
    "iris.data # iris['data']"
   ]
  },
  {
   "cell_type": "markdown",
   "id": "a754cb02",
   "metadata": {},
   "source": [
    "품종 데이터는 `'target'` 키의 값으로 저장되어 있으려, 시리즈 객체다.\n",
    "\n",
    "| 기호 | 품종 |\n",
    "| :---: | :---: |\n",
    "| 0 | 세토사(Iris setosa) |\n",
    "| 1 | 버시컬러(Iris versicolor) |\n",
    "| 2 | 버지니카(Iris verginica) |"
   ]
  },
  {
   "cell_type": "code",
   "execution_count": 7,
   "id": "b55d33fa",
   "metadata": {},
   "outputs": [
    {
     "data": {
      "text/plain": [
       "0      0\n",
       "1      0\n",
       "2      0\n",
       "3      0\n",
       "4      0\n",
       "      ..\n",
       "145    2\n",
       "146    2\n",
       "147    2\n",
       "148    2\n",
       "149    2\n",
       "Name: target, Length: 150, dtype: int64"
      ]
     },
     "execution_count": 7,
     "metadata": {},
     "output_type": "execute_result"
    }
   ],
   "source": [
    "iris.target # iris['target']"
   ]
  },
  {
   "cell_type": "markdown",
   "id": "2ab46442",
   "metadata": {},
   "source": [
    "시각화를 위해 꽃잎<font size='2'>petal</font>의 길이와 너비 두 개의 특성만 선택한다.\n",
    "\n",
    "* `values` 속성: 데이터프레임 또는 시리즈의 항목으로 구성된 넘파이 어레이"
   ]
  },
  {
   "cell_type": "code",
   "execution_count": 8,
   "id": "bba6ffa0",
   "metadata": {},
   "outputs": [],
   "source": [
    "X = iris.data[[\"petal length (cm)\", \"petal width (cm)\"]].values\n",
    "y = iris.target.values"
   ]
  },
  {
   "cell_type": "markdown",
   "id": "79d611ea",
   "metadata": {},
   "source": [
    "꽃잎의 길이와 너비를 이용하여 품종별로 산점도를 그려보자. \n",
    "먼저 세토사 품종의 데이터는 다음과 같다. "
   ]
  },
  {
   "cell_type": "code",
   "execution_count": 9,
   "id": "ebec8e6d",
   "metadata": {},
   "outputs": [],
   "source": [
    "mask_setosa = (y == 0)\n",
    "X_setosa = X[mask_setosa]"
   ]
  },
  {
   "cell_type": "markdown",
   "id": "d3c3547c",
   "metadata": {},
   "source": [
    "50개의 샘플로 구성된다."
   ]
  },
  {
   "cell_type": "code",
   "execution_count": 10,
   "id": "9eee7836",
   "metadata": {},
   "outputs": [
    {
     "data": {
      "text/plain": [
       "(50, 2)"
      ]
     },
     "execution_count": 10,
     "metadata": {},
     "output_type": "execute_result"
    }
   ],
   "source": [
    "X_setosa.shape"
   ]
  },
  {
   "cell_type": "markdown",
   "id": "8716c34d",
   "metadata": {},
   "source": [
    "버시컬러 데이터셋과 버지니카 데이터셋도 동일한 방식으로 구해진다."
   ]
  },
  {
   "cell_type": "code",
   "execution_count": 11,
   "id": "79eb1641",
   "metadata": {},
   "outputs": [],
   "source": [
    "mask_versicolor = (y == 1)\n",
    "X_versicolor = X[mask_versicolor]"
   ]
  },
  {
   "cell_type": "code",
   "execution_count": 12,
   "id": "0ed1d738",
   "metadata": {},
   "outputs": [],
   "source": [
    "mask_verginica = (y == 2)\n",
    "X_verginica = X[mask_verginica]"
   ]
  },
  {
   "cell_type": "markdown",
   "id": "3ac463c8",
   "metadata": {},
   "source": [
    "각 데이터셋의 산점도를 다른 색을 이용하여 그리면 다음과 같다."
   ]
  },
  {
   "cell_type": "code",
   "execution_count": 13,
   "id": "4efe591e",
   "metadata": {},
   "outputs": [
    {
     "data": {
      "image/png": "[encoded data removed]",
      "text/plain": [
       "<Figure size 432x288 with 1 Axes>"
      ]
     },
     "metadata": {
      "needs_background": "light"
     },
     "output_type": "display_data"
    }
   ],
   "source": [
    "plt.plot(X_setosa[:, 0], X_setosa[:, 1], \"yo\", label=\"Iris setosa\")             # 노랑 원\n",
    "plt.plot(X_versicolor[:, 0], X_versicolor[:, 1], \"bs\", label=\"Iris versicolor\") # 파랑 네모\n",
    "plt.plot(X_verginica[:, 0], X_verginica[:, 1], \"r^\", label=\"Iris verginica\")    # 빨강 세모\n",
    "\n",
    "plt.xlabel(\"Petal length\")\n",
    "plt.ylabel(\"Petal width\")\n",
    "plt.legend(loc=\"upper left\")\n",
    "\n",
    "plt.show()"
   ]
  },
  {
   "cell_type": "markdown",
   "id": "9b9f4623",
   "metadata": {},
   "source": [
    "범위를 x 축은 0에서 7.5 사이로, \n",
    "y 축은 0에서 3 사이로 지정한 다음에\n",
    "축의 척도를 일치 시키면 그림이 사뭇 다르게 보인다."
   ]
  },
  {
   "cell_type": "code",
   "execution_count": 14,
   "id": "5e167fb1",
   "metadata": {},
   "outputs": [
    {
     "data": {
      "image/png": "[encoded data removed]",
      "text/plain": [
       "<Figure size 432x288 with 1 Axes>"
      ]
     },
     "metadata": {
      "needs_background": "light"
     },
     "output_type": "display_data"
    }
   ],
   "source": [
    "plt.plot(X[:, 0][y == 0], X[:, 1][y == 0], \"yo\", label=\"Iris setosa\")     # 노랑 원\n",
    "plt.plot(X[:, 0][y == 1], X[:, 1][y == 1], \"bs\", label=\"Iris versicolor\") # 파랑 네모\n",
    "plt.plot(X[:, 0][y == 2], X[:, 1][y == 2], \"r^\", label=\"Iris verginica\")  # 빨강 세모\n",
    "\n",
    "plt.xlabel(\"Petal length\")\n",
    "plt.ylabel(\"Petal width\")\n",
    "plt.legend(loc=\"upper left\")\n",
    "\n",
    "plt.axis([0, 7.5, 0, 3])\n",
    "plt.gca().set_aspect(\"equal\")\n",
    "\n",
    "plt.show()"
   ]
  },
  {
   "cell_type": "markdown",
   "id": "793e2045",
   "metadata": {},
   "source": [
    "격자 무늬 배경도 추가하자."
   ]
  },
  {
   "cell_type": "code",
   "execution_count": 15,
   "id": "91f0caf0",
   "metadata": {},
   "outputs": [
    {
     "data": {
      "image/png": "[encoded data removed]",
      "text/plain": [
       "<Figure size 432x288 with 1 Axes>"
      ]
     },
     "metadata": {
      "needs_background": "light"
     },
     "output_type": "display_data"
    }
   ],
   "source": [
    "plt.plot(X[:, 0][y == 0], X[:, 1][y == 0], \"yo\", label=\"Iris setosa\")     # 노랑 원\n",
    "plt.plot(X[:, 0][y == 1], X[:, 1][y == 1], \"bs\", label=\"Iris versicolor\") # 파랑 네모\n",
    "plt.plot(X[:, 0][y == 2], X[:, 1][y == 2], \"rs\", label=\"Iris verginica\")  # 빨강 세모\n",
    "\n",
    "plt.xlabel(\"Petal length\")\n",
    "plt.ylabel(\"Petal width\")\n",
    "plt.legend(loc=\"upper left\")\n",
    "\n",
    "plt.axis([0, 7.5, 0, 3])\n",
    "plt.gca().set_aspect(\"equal\")\n",
    "plt.grid()\n",
    "\n",
    "plt.show()"
   ]
  },
  {
   "cell_type": "markdown",
   "id": "a0e88985",
   "metadata": {},
   "source": [
    "아래 코드는 두 개의 직선을 그린다."
   ]
  },
  {
   "cell_type": "code",
   "execution_count": 16,
   "id": "8a527769",
   "metadata": {},
   "outputs": [
    {
     "data": {
      "image/png": "[encoded data removed]",
      "text/plain": [
       "<Figure size 432x288 with 1 Axes>"
      ]
     },
     "metadata": {
      "needs_background": "light"
     },
     "output_type": "display_data"
    }
   ],
   "source": [
    "# x 좌표\n",
    "x0 = np.linspace(0, 7.5, 200) # 0부터 7.5 사이를 200개의 작은 구간으로 균등하게 쪼갠 x 좌표값\n",
    "\n",
    "# 두 개의 직선에 대한 y 좌표값\n",
    "pred_1 = 5 * x0 - 12  # 직선 1의 y 좌표\n",
    "pred_2 = -x0 + 6.5    # 직선 2의 y 좌표\n",
    "\n",
    "plt.plot(x0, pred_1, \"g--\", linewidth=2) # 직선 1\n",
    "plt.plot(x0, pred_2, \"m-.\", linewidth=2) # 직선 2\n",
    "\n",
    "plt.axis([0, 7.5, 0, 3])\n",
    "plt.gca().set_aspect(\"equal\")\n",
    "plt.grid()\n",
    "\n",
    "plt.show()"
   ]
  },
  {
   "cell_type": "markdown",
   "id": "a202461f",
   "metadata": {},
   "source": [
    "위 두 직선과 붓꽃 데이터셋의 산포도를 합치면\n",
    "품종을 구별하는 경계선을 얻는다."
   ]
  },
  {
   "cell_type": "code",
   "execution_count": 17,
   "id": "92ebe882",
   "metadata": {},
   "outputs": [
    {
     "data": {
      "image/png": "[encoded data removed]",
      "text/plain": [
       "<Figure size 432x288 with 1 Axes>"
      ]
     },
     "metadata": {
      "needs_background": "light"
     },
     "output_type": "display_data"
    }
   ],
   "source": [
    "x0 = np.linspace(0, 7.5, 200)\n",
    "pred_1 = 5 * x0 - 12\n",
    "pred_2 = -x0 + 6.5\n",
    "pred_3 = 0.05 * x0 + 0.6\n",
    "\n",
    "plt.plot(x0, pred_1, \"g--\", linewidth=2)\n",
    "plt.plot(x0, pred_2, \"m-.\", linewidth=2)\n",
    "# plt.plot(x0, pred_3, \"y-\", linewidth=2)\n",
    "\n",
    "plt.plot(X[:, 0][y==0], X[:, 1][y==0], \"yo\", label=\"Iris setosa\")     # 노랑 원\n",
    "plt.plot(X[:, 0][y==1], X[:, 1][y==1], \"bs\", label=\"Iris versicolor\") # 파랑 네모\n",
    "plt.plot(X[:, 0][y==2], X[:, 1][y==2], \"rs\", label=\"Iris verginica\")  # 빨강 세모\n",
    "plt.xlabel(\"Petal length\")\n",
    "plt.ylabel(\"Petal width\")\n",
    "plt.legend(loc=\"upper left\")\n",
    "plt.axis([0, 7.5, 0, 3])\n",
    "plt.gca().set_aspect(\"equal\")\n",
    "plt.grid()\n",
    "\n",
    "plt.show()"
   ]
  }
 ],
 "metadata": {
  "kernelspec": {
   "display_name": "Python 3 (ipykernel)",
   "language": "python",
   "name": "python3"
  },
  "language_info": {
   "codemirror_mode": {
    "name": "ipython",
    "version": 3
   },
   "file_extension": ".py",
   "mimetype": "text/x-python",
   "name": "python",
   "nbconvert_exporter": "python",
   "pygments_lexer": "ipython3",
   "version": "3.9.7"
  }
 },
 "nbformat": 4,
 "nbformat_minor": 5
}
