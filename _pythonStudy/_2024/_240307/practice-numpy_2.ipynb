{
 "cells": [
  {
   "cell_type": "markdown",
   "metadata": {},
   "source": [
    "# (실습) 어레이 인덱싱"
   ]
  },
  {
   "cell_type": "markdown",
   "metadata": {},
   "source": [
    "**주의사항**\n",
    "\n",
    "- `None`은 적절한 표현식으로 대체한다.\n",
    "- `Pass`는 적절한 명령문으로 대체한다."
   ]
  },
  {
   "cell_type": "code",
   "execution_count": 2,
   "metadata": {
    "id": "J71Fcvihxzi9"
   },
   "outputs": [],
   "source": [
    "import numpy as np"
   ]
  },
  {
   "cell_type": "markdown",
   "metadata": {},
   "source": [
    "## 인덱싱과 슬라이싱"
   ]
  },
  {
   "cell_type": "markdown",
   "metadata": {},
   "source": [
    "**문제 1**"
   ]
  },
  {
   "cell_type": "markdown",
   "metadata": {
    "id": "4ZozwEqVyZy8"
   },
   "source": [
    "변수 `Z`가 크기가 10인 1차원 어레이를 가리키도록 하라.\n",
    "단, 1차원 어레이의 다섯 번쨰 값(4번 인덱스)은 1이고 나머지는 0이어야 한다.\n",
    "또한 `np.zeros()` 함수와 어레이 인덱싱을 반드시 이용한다."
   ]
  },
  {
   "cell_type": "code",
   "execution_count": 24,
   "metadata": {
    "colab": {
     "base_uri": "https://localhost:8080/"
    },
    "id": "DjZdhoKuKfqn",
    "outputId": "ae4710f0-6732-474f-c012-212148b2f073"
   },
   "outputs": [
    {
     "name": "stdout",
     "output_type": "stream",
     "text": [
      "[0 0 0 0 1 0 0 0 0 0]\n"
     ]
    }
   ],
   "source": [
    "Z = np.zeros(shape=10, dtype = int)\n",
    "Z[4] = 1\n",
    "print(Z)"
   ]
  },
  {
   "cell_type": "markdown",
   "metadata": {},
   "source": [
    "아래 코드는 수정하지 마세요!!!"
   ]
  },
  {
   "cell_type": "code",
   "execution_count": null,
   "metadata": {},
   "outputs": [],
   "source": [
    "assert (Z == np.array([0., 0., 0., 0., 1., 0., 0., 0., 0., 0.])).all()"
   ]
  },
  {
   "cell_type": "markdown",
   "metadata": {},
   "source": [
    "**문제 2**"
   ]
  },
  {
   "cell_type": "markdown",
   "metadata": {},
   "source": [
    "변수 `Z`가 0에서 49까지의 정수로 구성된 1차원 어레이를 가리키도록 하라.\n",
    "단, 내림차순으로 정렬되어야 하며 이를 위해 어레이 슬라이싱을 반드시 이용한다.\n",
    "또한 `sort()` 메서드는 사용하지 않는다."
   ]
  },
  {
   "cell_type": "code",
   "execution_count": 33,
   "metadata": {},
   "outputs": [
    {
     "name": "stdout",
     "output_type": "stream",
     "text": [
      "[49 48 47 46 45 44 43 42 41 40 39 38 37 36 35 34 33 32 31 30 29 28 27 26\n",
      " 25 24 23 22 21 20 19 18 17 16 15 14 13 12 11 10  9  8  7  6  5  4  3  2\n",
      "  1  0]\n"
     ]
    }
   ],
   "source": [
    "Z = np.arange(0,50)\n",
    "Z = np.argsort(Z)[::-1]\n",
    "print(Z)\n",
    "pass"
   ]
  },
  {
   "cell_type": "markdown",
   "metadata": {},
   "source": [
    "아래 코드는 수정하지 마세요!!!"
   ]
  },
  {
   "cell_type": "code",
   "execution_count": null,
   "metadata": {},
   "outputs": [],
   "source": [
    "assert (Z == np.array([49, 48, 47, 46, 45, 44, 43, 42, 41, 40, 39, 38, 37, 36, 35, 34, 33,\n",
    "                       32, 31, 30, 29, 28, 27, 26, 25, 24, 23, 22, 21, 20, 19, 18, 17, 16,\n",
    "                       15, 14, 13, 12, 11, 10,  9,  8,  7,  6,  5,  4,  3,  2,  1,  0])).all()"
   ]
  },
  {
   "cell_type": "markdown",
   "metadata": {},
   "source": [
    "**문제 3**"
   ]
  },
  {
   "cell_type": "markdown",
   "metadata": {},
   "source": [
    "변수 `Z`가 아래와 같은 (8,8) 모양의 2차원 어레이를 가리키도록 하라.\n",
    "단, `np.zeros()` 함수와 어레이 슬라이싱을 이용한다.\n",
    "\n",
    "```\n",
    "[[0 1 0 1 0 1 0 1]\n",
    " [1 0 1 0 1 0 1 0]\n",
    " [0 1 0 1 0 1 0 1]\n",
    " [1 0 1 0 1 0 1 0]\n",
    " [0 1 0 1 0 1 0 1]\n",
    " [1 0 1 0 1 0 1 0]\n",
    " [0 1 0 1 0 1 0 1]\n",
    " [1 0 1 0 1 0 1 0]]\n",
    "```"
   ]
  },
  {
   "cell_type": "code",
   "execution_count": 38,
   "metadata": {},
   "outputs": [
    {
     "name": "stdout",
     "output_type": "stream",
     "text": [
      "[0 0 0 0 0 0 0 0]\n"
     ]
    }
   ],
   "source": [
    "\n",
    "Z = np.zeros(shape=8, dtype = int)\n",
    "print(Z)\n",
    "pass"
   ]
  },
  {
   "cell_type": "markdown",
   "metadata": {},
   "source": [
    "아래 코드는 수정하지 마세요!!!"
   ]
  },
  {
   "cell_type": "code",
   "execution_count": null,
   "metadata": {},
   "outputs": [],
   "source": [
    "assert (Z == np.array([[0, 1, 0, 1, 0, 1, 0, 1],\n",
    "                       [1, 0, 1, 0, 1, 0, 1, 0],\n",
    "                       [0, 1, 0, 1, 0, 1, 0, 1],\n",
    "                       [1, 0, 1, 0, 1, 0, 1, 0],\n",
    "                       [0, 1, 0, 1, 0, 1, 0, 1],\n",
    "                       [1, 0, 1, 0, 1, 0, 1, 0],\n",
    "                       [0, 1, 0, 1, 0, 1, 0, 1],\n",
    "                       [1, 0, 1, 0, 1, 0, 1, 0]])).all()"
   ]
  },
  {
   "cell_type": "markdown",
   "metadata": {},
   "source": [
    "**문제 4**"
   ]
  },
  {
   "cell_type": "markdown",
   "metadata": {},
   "source": [
    "변수 `Z`가 아래와 같은 (10,10) 모양의 2차원 어레이를 가리키도록 하라.\n",
    "단, `np.ones()` 함수와 어레이 슬라이싱을 반드시 이용한다.\n",
    "\n",
    "```\n",
    "[[1. 1. 1. 1. 1. 1. 1. 1. 1. 1.]\n",
    " [1. 0. 0. 0. 0. 0. 0. 0. 0. 1.]\n",
    " [1. 0. 0. 0. 0. 0. 0. 0. 0. 1.]\n",
    " [1. 0. 0. 0. 0. 0. 0. 0. 0. 1.]\n",
    " [1. 0. 0. 0. 0. 0. 0. 0. 0. 1.]\n",
    " [1. 0. 0. 0. 0. 0. 0. 0. 0. 1.]\n",
    " [1. 0. 0. 0. 0. 0. 0. 0. 0. 1.]\n",
    " [1. 0. 0. 0. 0. 0. 0. 0. 0. 1.]\n",
    " [1. 0. 0. 0. 0. 0. 0. 0. 0. 1.]\n",
    " [1. 1. 1. 1. 1. 1. 1. 1. 1. 1.]]\n",
    "```"
   ]
  },
  {
   "cell_type": "code",
   "execution_count": null,
   "metadata": {},
   "outputs": [],
   "source": [
    "Z = None\n",
    "pass"
   ]
  },
  {
   "cell_type": "markdown",
   "metadata": {},
   "source": [
    "아래 코드는 수정하지 마세요!!!"
   ]
  },
  {
   "cell_type": "code",
   "execution_count": null,
   "metadata": {},
   "outputs": [],
   "source": [
    "assert (Z  == np.array([[1., 1., 1., 1., 1., 1., 1., 1., 1., 1.],\n",
    "                        [1., 0., 0., 0., 0., 0., 0., 0., 0., 1.],\n",
    "                        [1., 0., 0., 0., 0., 0., 0., 0., 0., 1.],\n",
    "                        [1., 0., 0., 0., 0., 0., 0., 0., 0., 1.],\n",
    "                        [1., 0., 0., 0., 0., 0., 0., 0., 0., 1.],\n",
    "                        [1., 0., 0., 0., 0., 0., 0., 0., 0., 1.],\n",
    "                        [1., 0., 0., 0., 0., 0., 0., 0., 0., 1.],\n",
    "                        [1., 0., 0., 0., 0., 0., 0., 0., 0., 1.],\n",
    "                        [1., 0., 0., 0., 0., 0., 0., 0., 0., 1.],\n",
    "                        [1., 1., 1., 1., 1., 1., 1., 1., 1., 1.]])).all()"
   ]
  },
  {
   "cell_type": "markdown",
   "metadata": {},
   "source": [
    "**문제 5**"
   ]
  },
  {
   "cell_type": "markdown",
   "metadata": {},
   "source": [
    "(1) 변수 `Z`가 아래와 같은 (7,7) 모양의 2차원 어레이를 가리키도록 하라.\n",
    "단, `np.ones()` 함수, `np.pad()` 함수, 어레이 슬라이싱을 반드시 이용한다.\n",
    "\n",
    "```\n",
    "[[0. 0. 0. 0. 0. 0. 0.]\n",
    " [0. 1. 1. 1. 1. 1. 0.]\n",
    " [0. 1. 1. 1. 1. 1. 0.]\n",
    " [0. 1. 1. 1. 1. 1. 0.]\n",
    " [0. 1. 1. 1. 1. 1. 0.]\n",
    " [0. 1. 1. 1. 1. 1. 0.]\n",
    " [0. 0. 0. 0. 0. 0. 0.]]\n",
    "```"
   ]
  },
  {
   "cell_type": "code",
   "execution_count": null,
   "metadata": {},
   "outputs": [],
   "source": [
    "Z = None\n",
    "Z = None"
   ]
  },
  {
   "cell_type": "markdown",
   "metadata": {},
   "source": [
    "아래 코드는 수정하지 마세요!!!"
   ]
  },
  {
   "cell_type": "code",
   "execution_count": null,
   "metadata": {},
   "outputs": [],
   "source": [
    "assert (Z == np.array([[0., 0., 0., 0., 0., 0., 0.],\n",
    "                        [0., 1., 1., 1., 1., 1., 0.],\n",
    "                        [0., 1., 1., 1., 1., 1., 0.],\n",
    "                        [0., 1., 1., 1., 1., 1., 0.],\n",
    "                        [0., 1., 1., 1., 1., 1., 0.],\n",
    "                        [0., 1., 1., 1., 1., 1., 0.],\n",
    "                        [0., 0., 0., 0., 0., 0., 0.]])).all"
   ]
  },
  {
   "cell_type": "markdown",
   "metadata": {},
   "source": [
    "(2) 이번에는 인덱싱과 슬라이싱만을 이용하여 동일한 어레이를 생성하라."
   ]
  },
  {
   "cell_type": "code",
   "execution_count": null,
   "metadata": {},
   "outputs": [],
   "source": [
    "# 이것도 같은 동작\n",
    "pass\n",
    "pass"
   ]
  },
  {
   "cell_type": "markdown",
   "metadata": {},
   "source": [
    "아래 코드는 수정하지 마세요!!!"
   ]
  },
  {
   "cell_type": "code",
   "execution_count": null,
   "metadata": {},
   "outputs": [],
   "source": [
    "assert (Z == np.array([[0., 0., 0., 0., 0., 0., 0.],\n",
    "                        [0., 1., 1., 1., 1., 1., 0.],\n",
    "                        [0., 1., 1., 1., 1., 1., 0.],\n",
    "                        [0., 1., 1., 1., 1., 1., 0.],\n",
    "                        [0., 1., 1., 1., 1., 1., 0.],\n",
    "                        [0., 1., 1., 1., 1., 1., 0.],\n",
    "                        [0., 0., 0., 0., 0., 0., 0.]])).all"
   ]
  },
  {
   "cell_type": "markdown",
   "metadata": {},
   "source": [
    "## 부울 인덱싱"
   ]
  },
  {
   "cell_type": "markdown",
   "metadata": {},
   "source": [
    "**문제 1**"
   ]
  },
  {
   "cell_type": "markdown",
   "metadata": {
    "id": "jY6MtbSO-y-v"
   },
   "source": [
    "벡터가 아래와 같이 주어졌다."
   ]
  },
  {
   "cell_type": "code",
   "execution_count": null,
   "metadata": {
    "colab": {
     "base_uri": "https://localhost:8080/"
    },
    "id": "3ipYric0XRMw",
    "outputId": "96de1898-27fd-4b3c-a726-a65ad270da23"
   },
   "outputs": [],
   "source": [
    "Z = np.arange(11)"
   ]
  },
  {
   "cell_type": "markdown",
   "metadata": {
    "id": "jY6MtbSO-y-v"
   },
   "source": [
    "3보다 크고 8보다 작은 값을 모두 음의 값으로 부호를 바꿔라.\n",
    "단, 마스크를 활용하고 어레이와 스칼라 곱셈을 실행한다."
   ]
  },
  {
   "cell_type": "code",
   "execution_count": null,
   "metadata": {
    "colab": {
     "base_uri": "https://localhost:8080/"
    },
    "id": "3ipYric0XRMw",
    "outputId": "96de1898-27fd-4b3c-a726-a65ad270da23"
   },
   "outputs": [],
   "source": [
    "mask = None\n",
    "pass"
   ]
  },
  {
   "cell_type": "markdown",
   "metadata": {},
   "source": [
    "아래 코드는 수정하지 마세요!!!"
   ]
  },
  {
   "cell_type": "code",
   "execution_count": null,
   "metadata": {
    "colab": {
     "base_uri": "https://localhost:8080/"
    },
    "id": "3ipYric0XRMw",
    "outputId": "96de1898-27fd-4b3c-a726-a65ad270da23"
   },
   "outputs": [],
   "source": [
    "assert (Z == np.array([ 0,  1,  2,  3, -4, -5, -6, -7,  8,  9, 10])).all()"
   ]
  },
  {
   "cell_type": "markdown",
   "metadata": {},
   "source": [
    "## 팬시 인덱싱"
   ]
  },
  {
   "cell_type": "markdown",
   "metadata": {},
   "source": [
    "**문제 1**"
   ]
  },
  {
   "cell_type": "markdown",
   "metadata": {},
   "source": [
    "2차원 어레이 `A`가 아래와 같이 주어졌다."
   ]
  },
  {
   "cell_type": "code",
   "execution_count": 3,
   "metadata": {},
   "outputs": [
    {
     "data": {
      "text/plain": [
       "array([[ 0,  1,  2,  3,  4],\n",
       "       [ 5,  6,  7,  8,  9],\n",
       "       [10, 11, 12, 13, 14],\n",
       "       [15, 16, 17, 18, 19],\n",
       "       [20, 21, 22, 23, 24]])"
      ]
     },
     "execution_count": 3,
     "metadata": {},
     "output_type": "execute_result"
    }
   ],
   "source": [
    "A = np.arange(25).reshape(5,5)\n",
    "A"
   ]
  },
  {
   "cell_type": "markdown",
   "metadata": {},
   "source": [
    "0행과 1행의 위치를 바꿔라.\n",
    "단, 팬신 인덱싱을 이용한다."
   ]
  },
  {
   "cell_type": "code",
   "execution_count": 6,
   "metadata": {},
   "outputs": [
    {
     "name": "stdout",
     "output_type": "stream",
     "text": [
      "[[ 0  5  2  3  4]\n",
      " [ 5  6  7  8  9]\n",
      " [10 11 12 13 14]\n",
      " [15 16 17 18 19]\n",
      " [20 21 22 23 24]]\n"
     ]
    }
   ],
   "source": [
    "A[(0,1)] = A[(1,0)]\n",
    "print(A)"
   ]
  },
  {
   "cell_type": "markdown",
   "metadata": {},
   "source": [
    "아래 코드는 수정하지 마세요!!!"
   ]
  },
  {
   "cell_type": "code",
   "execution_count": null,
   "metadata": {},
   "outputs": [],
   "source": []
  },
  {
   "cell_type": "code",
   "execution_count": 5,
   "metadata": {},
   "outputs": [
    {
     "ename": "AssertionError",
     "evalue": "",
     "output_type": "error",
     "traceback": [
      "\u001b[1;31m---------------------------------------------------------------------------\u001b[0m",
      "\u001b[1;31mAssertionError\u001b[0m                            Traceback (most recent call last)",
      "Cell \u001b[1;32mIn[5], line 1\u001b[0m\n\u001b[1;32m----> 1\u001b[0m \u001b[38;5;28;01massert\u001b[39;00m (A \u001b[38;5;241m==\u001b[39m np\u001b[38;5;241m.\u001b[39marray([[ \u001b[38;5;241m5\u001b[39m,  \u001b[38;5;241m6\u001b[39m,  \u001b[38;5;241m7\u001b[39m,  \u001b[38;5;241m8\u001b[39m,  \u001b[38;5;241m9\u001b[39m],\n\u001b[0;32m      2\u001b[0m                         [ \u001b[38;5;241m0\u001b[39m,  \u001b[38;5;241m1\u001b[39m,  \u001b[38;5;241m2\u001b[39m,  \u001b[38;5;241m3\u001b[39m,  \u001b[38;5;241m4\u001b[39m],\n\u001b[0;32m      3\u001b[0m                         [\u001b[38;5;241m10\u001b[39m, \u001b[38;5;241m11\u001b[39m, \u001b[38;5;241m12\u001b[39m, \u001b[38;5;241m13\u001b[39m, \u001b[38;5;241m14\u001b[39m],\n\u001b[0;32m      4\u001b[0m                         [\u001b[38;5;241m15\u001b[39m, \u001b[38;5;241m16\u001b[39m, \u001b[38;5;241m17\u001b[39m, \u001b[38;5;241m18\u001b[39m, \u001b[38;5;241m19\u001b[39m],\n\u001b[0;32m      5\u001b[0m                         [\u001b[38;5;241m20\u001b[39m, \u001b[38;5;241m21\u001b[39m, \u001b[38;5;241m22\u001b[39m, \u001b[38;5;241m23\u001b[39m, \u001b[38;5;241m24\u001b[39m]]))\u001b[38;5;241m.\u001b[39mall()\n",
      "\u001b[1;31mAssertionError\u001b[0m: "
     ]
    }
   ],
   "source": [
    "assert (A == np.array([[ 5,  6,  7,  8,  9],\n",
    "                        [ 0,  1,  2,  3,  4],\n",
    "                        [10, 11, 12, 13, 14],\n",
    "                        [15, 16, 17, 18, 19],\n",
    "                        [20, 21, 22, 23, 24]])).all()"
   ]
  },
  {
   "cell_type": "markdown",
   "metadata": {},
   "source": [
    "## 보간법"
   ]
  },
  {
   "cell_type": "markdown",
   "metadata": {},
   "source": [
    "아래 코드는 너구리 얼굴 사진을 2차원 어레이로 불러온다."
   ]
  },
  {
   "cell_type": "code",
   "execution_count": null,
   "metadata": {},
   "outputs": [],
   "source": [
    "import scipy.misc\n",
    "face = scipy.misc.face()/255 # 정규화 포함"
   ]
  },
  {
   "cell_type": "code",
   "execution_count": null,
   "metadata": {},
   "outputs": [],
   "source": [
    "# 파이플롯\n",
    "import matplotlib.pyplot as plt\n",
    "# 도표 크기 지정\n",
    "plt.rc('figure', figsize=(10, 6))"
   ]
  },
  {
   "cell_type": "code",
   "execution_count": null,
   "metadata": {},
   "outputs": [],
   "source": [
    "plt.imshow(face)\n",
    "plt.show()"
   ]
  },
  {
   "cell_type": "markdown",
   "metadata": {},
   "source": [
    "**문제 1**"
   ]
  },
  {
   "cell_type": "markdown",
   "metadata": {},
   "source": [
    "[이미지 크기 조정](file:///C:/Users/gslee/Documents/GitHub/datapy/jupyter-book/_build/html/numpy_2.html#id9)에서\n",
    "사용한 보간법은 네 칸 중에서 대각선 상에 위치한 두 개의 픽셀에 대해서만 평균값을 계산한다.\n",
    "이제 아래 그림이 보여주는 것처럼 네 칸 모두를 대상으로 픽셀 평균값을 계산하는 이미지 축소 함수 `resize_half()`를 정의하라.\n",
    "단, 어레이 관련 연산, 메서드, 함수만 사용하며, `for` 반복문은 사용하지 않는다."
   ]
  },
  {
   "cell_type": "markdown",
   "metadata": {},
   "source": [
    "<img src=\"https://github.com/codingalzi/pydata/blob/master/notebooks/images/interpolation03.png?raw=true\" style=\"width:150px;\">"
   ]
  },
  {
   "cell_type": "markdown",
   "metadata": {},
   "source": [
    "`resize_half()` 함수가 사용하는 매개변수의 기능과 반환값은 아래와 같이 지정돼야 한다.\n",
    "\n",
    "* `imageName` 매개 변수: 이미지 어레이를 가리키는 변수. 이미지는 정규화가 되어 있어야 함.\n",
    "* 반환값: 행과 열의 크기가 1/2로 줄어든 3차원 넘파이 어레이."
   ]
  },
  {
   "cell_type": "code",
   "execution_count": null,
   "metadata": {},
   "outputs": [],
   "source": [
    "def resize_half(imageName):\n",
    "    pass\n",
    "    return None"
   ]
  },
  {
   "cell_type": "markdown",
   "metadata": {},
   "source": [
    "구현된 함수가 제대로 작동하는제 테스트하라."
   ]
  },
  {
   "cell_type": "code",
   "execution_count": null,
   "metadata": {},
   "outputs": [],
   "source": [
    "face_half = resize_half(face)"
   ]
  },
  {
   "cell_type": "markdown",
   "metadata": {},
   "source": [
    "아래 코드는 수정하지 마세요!!!"
   ]
  },
  {
   "cell_type": "code",
   "execution_count": null,
   "metadata": {},
   "outputs": [],
   "source": [
    "assert face_half.shape == (384, 512, 3)\n",
    "assert np.allclose(face_half[0, 0], np.array([0.44901961, 0.41764706, 0.49019608]))"
   ]
  },
  {
   "cell_type": "markdown",
   "metadata": {},
   "source": [
    "**문제 2**"
   ]
  },
  {
   "cell_type": "markdown",
   "metadata": {},
   "source": [
    "**문제 1**에서 구현한 `resize_half()` 함수를 일반화하기 위해\n",
    "이미지의 픽셀 수를 임의의 지정된 비율로 줄이는 함수 `resize_ratio()`를 선언하라.\n",
    "사용되는 매개변수의 기능과 반환값은 아래와 같이 지정돼야 한다.\n",
    "\n",
    "* `imageName` 매개 변수: 이미지 어레이를 가리키는 변수. 이미지는 정규화가 되어 있어야 함.\n",
    "* `ratio` 매개 변수: 양의 정수. 키워드 인자로 사용되며 기본값은 2로 지정.\n",
    "    기본값 2를 사용하면 `resize_half()` 함수와 동일하게 작동해야 함.\n",
    "    일반적으로, n이 입력되면 n x n 모양의 픽셀 공간의 평균값을 이용해야 한다.\n",
    "* 반환값: 행과 열의 크기가 1/n 로 줄어든 3차원 넘파이 어레이.\n",
    "    n=2인 경우 **문제 1**의 경우와 동일하게 작동해야 한다.\n",
    "\n",
    "**주의사항:** \n",
    "1. 행과 열의 크기를 n으로 나눴을 때 나머지로 남는 행과 열은 삭제한다.\n",
    "1. n은 8 정도까지만 시험해 본다. 그보다 크면 원본 이미지에서 너무 많은 데이터를 잃어버릴 것이다.\n",
    "1. 기본적으로 어레이 연산만 사용한다. `for` 반복문을 어레이의 각 항목의 값을 지정하는 데에 사용하지는 말아야 한다.\n",
    "\n",
    "**힌트:**\n",
    "`np.hsplit()` 함수와 `sum()` 메서드를 적절히 활용하면 `for` 반복문을 전혀 사용하지 않아도 된다."
   ]
  },
  {
   "cell_type": "code",
   "execution_count": null,
   "metadata": {},
   "outputs": [],
   "source": [
    "# pass와 None을 각각 적절한 코드와 값으로 대체해야 함.\n",
    "def resize_ratio(imageName, ratio=2):\n",
    "    pass\n",
    "    return None"
   ]
  },
  {
   "cell_type": "markdown",
   "metadata": {},
   "source": [
    "아래 코드는 수정하지 마세요!!!"
   ]
  },
  {
   "cell_type": "code",
   "execution_count": null,
   "metadata": {},
   "outputs": [],
   "source": [
    "face_half_ratio = resize_ratio(face)\n",
    "\n",
    "assert face_half_ratio.shape == (384, 512, 3)\n",
    "assert np.allclose(face_half_ratio[0, 0], np.array([0.44901961, 0.41764706, 0.49019608]))"
   ]
  },
  {
   "cell_type": "markdown",
   "metadata": {},
   "source": [
    "아래 코드는 수정하지 마세요!!!"
   ]
  },
  {
   "cell_type": "code",
   "execution_count": null,
   "metadata": {},
   "outputs": [],
   "source": [
    "face_fourth = resize_ratio(face, 4)\n",
    "\n",
    "assert face_fourth.shape == (192, 256, 3)"
   ]
  }
 ],
 "metadata": {
  "colab": {
   "provenance": []
  },
  "kernelspec": {
   "display_name": "Python 3 (ipykernel)",
   "language": "python",
   "name": "python3"
  },
  "language_info": {
   "codemirror_mode": {
    "name": "ipython",
    "version": 3
   },
   "file_extension": ".py",
   "mimetype": "text/x-python",
   "name": "python",
   "nbconvert_exporter": "python",
   "pygments_lexer": "ipython3",
   "version": "3.12.0"
  },
  "vscode": {
   "interpreter": {
    "hash": "ad0f3c8a064f687cbf898a0868fd45ba1c7e928ac8a0404f7c241d812ddc1e76"
   }
  }
 },
 "nbformat": 4,
 "nbformat_minor": 1
}
